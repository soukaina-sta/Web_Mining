{
 "cells": [
  {
   "cell_type": "code",
   "execution_count": 0,
   "metadata": {
    "application/vnd.databricks.v1+cell": {
     "inputWidgets": {},
     "nuid": "f1f7a4d4-76ab-41e5-8eed-1a26ce83d9ba",
     "showTitle": false,
     "title": ""
    }
   },
   "outputs": [
    {
     "data": {
      "text/html": [
       "<style scoped>\n",
       "  .ansiout {\n",
       "    display: block;\n",
       "    unicode-bidi: embed;\n",
       "    white-space: pre-wrap;\n",
       "    word-wrap: break-word;\n",
       "    word-break: break-all;\n",
       "    font-family: \"Source Code Pro\", \"Menlo\", monospace;;\n",
       "    font-size: 13px;\n",
       "    color: #555;\n",
       "    margin-left: 4px;\n",
       "    line-height: 19px;\n",
       "  }\n",
       "</style>\n",
       "<div class=\"ansiout\"></div>"
      ]
     },
     "metadata": {
      "application/vnd.databricks.v1+output": {
       "addedWidgets": {},
       "arguments": {},
       "data": "<div class=\"ansiout\"></div>",
       "datasetInfos": [],
       "removedWidgets": [],
       "type": "html"
      }
     },
     "output_type": "display_data"
    }
   ],
   "source": [
    "import re\n",
    "\n",
    "from pyspark.sql import Row\n",
    "\n",
    "# This is the regular expression specific to Apache log analysis, which can be changed to different log formats as needed\n",
    "# Example of an Apache log line:\n",
    "#                              127.0.0.1 - - [21/Jul/2014:9:55:27 -0800] \"GET /home.html HTTP/1.1\" 200 2048\n",
    "#                              1:IP  2:client 3:user 4:date time           5:method 6:req 7:proto   8:respcode 9:size\n",
    "APACHE_ACCESS_LOG_PATTERN = '^(\\S+) (\\S+) (\\S+) \\[([\\w:/]+\\s[+\\-]\\d{4})\\] \"(\\S+) (\\S+) (\\S+)\" (\\d{3}) (\\d+)'\n",
    "\n",
    "# The function below is modeled specifically to the Apache Access Logs model, which can be modified as needed for different log formats\n",
    "# Return a dictionary containing the Apache access log parts.\n",
    "def parse_apache_log_line(logline):\n",
    "    match = re.search(APACHE_ACCESS_LOG_PATTERN, logline)\n",
    "    if match is None:\n",
    "        raise Error(\"Invalid logline: %s\" % logline)\n",
    "    return Row(\n",
    "        ip_address    = match.group(1),\n",
    "        client_identd = match.group(2),\n",
    "        user_id       = match.group(3),\n",
    "        date = (match.group(4)[:-6]).split(\":\", 1)[0],\n",
    "        time = (match.group(4)[:-6]).split(\":\", 1)[1],\n",
    "        method        = match.group(5),\n",
    "        endpoint      = match.group(6),\n",
    "        protocol      = match.group(7),\n",
    "        response_code = int(match.group(8)),\n",
    "        content_size  = int(match.group(9))\n",
    "    )"
   ]
  },
  {
   "cell_type": "code",
   "execution_count": 0,
   "metadata": {
    "application/vnd.databricks.v1+cell": {
     "inputWidgets": {},
     "nuid": "0abbe91f-ee1d-4112-b0ac-fdc52d905c27",
     "showTitle": false,
     "title": ""
    }
   },
   "outputs": [
    {
     "data": {
      "text/html": [
       "<style scoped>\n",
       "  .ansiout {\n",
       "    display: block;\n",
       "    unicode-bidi: embed;\n",
       "    white-space: pre-wrap;\n",
       "    word-wrap: break-word;\n",
       "    word-break: break-all;\n",
       "    font-family: \"Source Code Pro\", \"Menlo\", monospace;;\n",
       "    font-size: 13px;\n",
       "    color: #555;\n",
       "    margin-left: 4px;\n",
       "    line-height: 19px;\n",
       "  }\n",
       "</style>\n",
       "<div class=\"ansiout\">Out[2]: 1406</div>"
      ]
     },
     "metadata": {
      "application/vnd.databricks.v1+output": {
       "addedWidgets": {},
       "arguments": {},
       "data": "<div class=\"ansiout\">Out[2]: 1406</div>",
       "datasetInfos": [],
       "removedWidgets": [],
       "type": "html"
      }
     },
     "output_type": "display_data"
    }
   ],
   "source": [
    "from pyspark import SparkContext, SparkConf\n",
    "from pyspark.sql import SQLContext\n",
    "import sys\n",
    "\n",
    "\n",
    "#input file\n",
    "logFile = '/FileStore/tables/apache_access.log'\n",
    "\n",
    "# .cache() - Keeps the RDD in memory, which will be reused\n",
    "access_logs = (sc.textFile(logFile)\n",
    "               .map(parse_apache_log_line)\n",
    "               .cache())\n",
    "access_logs.count()"
   ]
  },
  {
   "cell_type": "code",
   "execution_count": 0,
   "metadata": {
    "application/vnd.databricks.v1+cell": {
     "inputWidgets": {},
     "nuid": "6dfcf02f-a803-4fb1-8cfc-c0a2472c5925",
     "showTitle": false,
     "title": ""
    }
   },
   "outputs": [
    {
     "data": {
      "text/html": [
       "<style scoped>\n",
       "  .ansiout {\n",
       "    display: block;\n",
       "    unicode-bidi: embed;\n",
       "    white-space: pre-wrap;\n",
       "    word-wrap: break-word;\n",
       "    word-break: break-all;\n",
       "    font-family: \"Source Code Pro\", \"Menlo\", monospace;;\n",
       "    font-size: 13px;\n",
       "    color: #555;\n",
       "    margin-left: 4px;\n",
       "    line-height: 19px;\n",
       "  }\n",
       "</style>\n",
       "<div class=\"ansiout\"></div>"
      ]
     },
     "metadata": {
      "application/vnd.databricks.v1+output": {
       "addedWidgets": {},
       "arguments": {},
       "data": "<div class=\"ansiout\"></div>",
       "datasetInfos": [
        {
         "name": "schema_access_logs",
         "schema": {
          "fields": [
           {
            "metadata": {},
            "name": "client_identd",
            "nullable": true,
            "type": "string"
           },
           {
            "metadata": {},
            "name": "content_size",
            "nullable": true,
            "type": "long"
           },
           {
            "metadata": {},
            "name": "date",
            "nullable": true,
            "type": "string"
           },
           {
            "metadata": {},
            "name": "endpoint",
            "nullable": true,
            "type": "string"
           },
           {
            "metadata": {},
            "name": "ip_address",
            "nullable": true,
            "type": "string"
           },
           {
            "metadata": {},
            "name": "method",
            "nullable": true,
            "type": "string"
           },
           {
            "metadata": {},
            "name": "protocol",
            "nullable": true,
            "type": "string"
           },
           {
            "metadata": {},
            "name": "response_code",
            "nullable": true,
            "type": "long"
           },
           {
            "metadata": {},
            "name": "time",
            "nullable": true,
            "type": "string"
           },
           {
            "metadata": {},
            "name": "user_id",
            "nullable": true,
            "type": "string"
           }
          ],
          "type": "struct"
         },
         "tableIdentifier": null,
         "typeStr": "pyspark.sql.dataframe.DataFrame"
        }
       ],
       "removedWidgets": [],
       "type": "html"
      }
     },
     "output_type": "display_data"
    }
   ],
   "source": [
    "schema_access_logs = sqlContext.createDataFrame(access_logs)\n",
    "#Create a table on which SQL type queries can be triggered for analysis\n",
    "schema_access_logs.registerTempTable(\"logs\")"
   ]
  },
  {
   "cell_type": "code",
   "execution_count": 0,
   "metadata": {
    "application/vnd.databricks.v1+cell": {
     "inputWidgets": {},
     "nuid": "eac54e92-bb1e-4737-b3b4-2eb531dc4882",
     "showTitle": false,
     "title": ""
    }
   },
   "outputs": [
    {
     "data": {
      "text/html": [
       "<style scoped>\n",
       "  .ansiout {\n",
       "    display: block;\n",
       "    unicode-bidi: embed;\n",
       "    white-space: pre-wrap;\n",
       "    word-wrap: break-word;\n",
       "    word-break: break-all;\n",
       "    font-family: \"Source Code Pro\", \"Menlo\", monospace;;\n",
       "    font-size: 13px;\n",
       "    color: #555;\n",
       "    margin-left: 4px;\n",
       "    line-height: 19px;\n",
       "  }\n",
       "</style>\n",
       "<div class=\"ansiout\"></div>"
      ]
     },
     "metadata": {
      "application/vnd.databricks.v1+output": {
       "addedWidgets": {},
       "arguments": {},
       "data": "<div class=\"ansiout\"></div>",
       "datasetInfos": [],
       "removedWidgets": [],
       "type": "html"
      }
     },
     "output_type": "display_data"
    }
   ],
   "source": [
    "# traffic size per address (page or endpoint)\n",
    "topEndpointsMaxSize = (sqlContext\n",
    "                .sql(\"SELECT endpoint,content_size/1024 FROM logs ORDER BY content_size DESC LIMIT 10\")\n",
    "                .rdd.map(lambda row: (row[0], row[1]))\n",
    "                .collect())"
   ]
  },
  {
   "cell_type": "code",
   "execution_count": 0,
   "metadata": {
    "application/vnd.databricks.v1+cell": {
     "inputWidgets": {},
     "nuid": "5edef2a7-7e2b-4d43-8ac1-74b326c3a7e5",
     "showTitle": false,
     "title": ""
    }
   },
   "outputs": [
    {
     "data": {
      "text/html": [
       "<style scoped>\n",
       "  .table-result-container {\n",
       "    max-height: 300px;\n",
       "    overflow: auto;\n",
       "  }\n",
       "  table, th, td {\n",
       "    border: 1px solid black;\n",
       "    border-collapse: collapse;\n",
       "  }\n",
       "  th, td {\n",
       "    padding: 5px;\n",
       "  }\n",
       "  th {\n",
       "    text-align: left;\n",
       "  }\n",
       "</style><div class='table-result-container'><table class='table-result'><thead style='background-color: white'><tr><th>_1</th><th>_2</th></tr></thead><tbody><tr><td>/twiki/bin/rdiff/TWiki/TWikiHistory</td><td>135.5361328125</td></tr><tr><td>/twiki/bin/rdiff/Main/WebChanges</td><td>111.5634765625</td></tr><tr><td>/twiki/bin/rdiff/Main/WebChanges?rev1=1.2&rev2=1.1</td><td>111.54296875</td></tr><tr><td>/twiki/bin/rdiff/TWiki/WebChanges</td><td>111.4912109375</td></tr><tr><td>/twiki/bin/rdiff/TWiki/WebHome</td><td>105.626953125</td></tr><tr><td>/twiki/bin/search/TWiki/?scope=topic&regex=on&bookview=on&search=.*</td><td>99.9990234375</td></tr><tr><td>/twiki/bin/view/TWiki/WebIndex</td><td>99.759765625</td></tr><tr><td>/twiki/bin/rdiff/TWiki/TWikiTopics</td><td>99.0673828125</td></tr><tr><td>/twiki/bin/search/TWiki/?search=\\\\.*&scope=topic&order=modified&reverse=on&regex=on&nosearch=on&limit=200</td><td>98.9052734375</td></tr><tr><td>/twiki/bin/rdiff/TWiki/TWikiSite</td><td>70.2548828125</td></tr></tbody></table></div>"
      ]
     },
     "metadata": {
      "application/vnd.databricks.v1+output": {
       "addedWidgets": {},
       "aggData": [],
       "aggError": "",
       "aggOverflow": false,
       "aggSchema": [],
       "aggSeriesLimitReached": false,
       "aggType": "",
       "arguments": {},
       "columnCustomDisplayInfos": {},
       "data": [
        [
         "/twiki/bin/rdiff/TWiki/TWikiHistory",
         135.5361328125
        ],
        [
         "/twiki/bin/rdiff/Main/WebChanges",
         111.5634765625
        ],
        [
         "/twiki/bin/rdiff/Main/WebChanges?rev1=1.2&rev2=1.1",
         111.54296875
        ],
        [
         "/twiki/bin/rdiff/TWiki/WebChanges",
         111.4912109375
        ],
        [
         "/twiki/bin/rdiff/TWiki/WebHome",
         105.626953125
        ],
        [
         "/twiki/bin/search/TWiki/?scope=topic&regex=on&bookview=on&search=.*",
         99.9990234375
        ],
        [
         "/twiki/bin/view/TWiki/WebIndex",
         99.759765625
        ],
        [
         "/twiki/bin/rdiff/TWiki/TWikiTopics",
         99.0673828125
        ],
        [
         "/twiki/bin/search/TWiki/?search=\\\\.*&scope=topic&order=modified&reverse=on&regex=on&nosearch=on&limit=200",
         98.9052734375
        ],
        [
         "/twiki/bin/rdiff/TWiki/TWikiSite",
         70.2548828125
        ]
       ],
       "datasetInfos": [],
       "dbfsResultPath": null,
       "isJsonSchema": true,
       "overflow": false,
       "plotOptions": {
        "customPlotOptions": {},
        "displayType": "plotlyBar",
        "pivotAggregation": null,
        "pivotColumns": null,
        "xColumns": null,
        "yColumns": null
       },
       "removedWidgets": [],
       "schema": [
        {
         "metadata": "{}",
         "name": "_1",
         "type": "\"string\""
        },
        {
         "metadata": "{}",
         "name": "_2",
         "type": "\"double\""
        }
       ],
       "type": "table"
      }
     },
     "output_type": "display_data"
    }
   ],
   "source": [
    "display(topEndpointsMaxSize)"
   ]
  },
  {
   "cell_type": "code",
   "execution_count": 0,
   "metadata": {
    "application/vnd.databricks.v1+cell": {
     "inputWidgets": {},
     "nuid": "907a7c09-8931-48e5-873b-1144e30c12de",
     "showTitle": false,
     "title": ""
    }
   },
   "outputs": [
    {
     "data": {
      "text/html": [
       "<style scoped>\n",
       "  .ansiout {\n",
       "    display: block;\n",
       "    unicode-bidi: embed;\n",
       "    white-space: pre-wrap;\n",
       "    word-wrap: break-word;\n",
       "    word-break: break-all;\n",
       "    font-family: \"Source Code Pro\", \"Menlo\", monospace;;\n",
       "    font-size: 13px;\n",
       "    color: #555;\n",
       "    margin-left: 4px;\n",
       "    line-height: 19px;\n",
       "  }\n",
       "</style>\n",
       "<div class=\"ansiout\">Out[14]: list</div>"
      ]
     },
     "metadata": {
      "application/vnd.databricks.v1+output": {
       "addedWidgets": {},
       "arguments": {},
       "data": "<div class=\"ansiout\">Out[14]: list</div>",
       "datasetInfos": [],
       "removedWidgets": [],
       "type": "html"
      }
     },
     "output_type": "display_data"
    }
   ],
   "source": [
    "# Display the number of times a response code has been triggered\n",
    "responseCodeToCount = (sqlContext\n",
    "                       .sql(\"SELECT response_code, COUNT(*) AS theCount FROM logs GROUP BY response_code\")\n",
    "                       .rdd.map(lambda row: (row[0], row[1]))\n",
    "                       .collect())\n",
    "type(responseCodeToCount)"
   ]
  },
  {
   "cell_type": "code",
   "execution_count": 0,
   "metadata": {
    "application/vnd.databricks.v1+cell": {
     "inputWidgets": {},
     "nuid": "3e15d6b4-6eac-4edc-8373-b182edd0e05a",
     "showTitle": false,
     "title": ""
    }
   },
   "outputs": [
    {
     "data": {
      "text/html": [
       "<style scoped>\n",
       "  .table-result-container {\n",
       "    max-height: 300px;\n",
       "    overflow: auto;\n",
       "  }\n",
       "  table, th, td {\n",
       "    border: 1px solid black;\n",
       "    border-collapse: collapse;\n",
       "  }\n",
       "  th, td {\n",
       "    padding: 5px;\n",
       "  }\n",
       "  th {\n",
       "    text-align: left;\n",
       "  }\n",
       "</style><div class='table-result-container'><table class='table-result'><thead style='background-color: white'><tr><th>_1</th><th>_2</th></tr></thead><tbody><tr><td>404</td><td>5</td></tr><tr><td>200</td><td>1272</td></tr><tr><td>302</td><td>6</td></tr><tr><td>401</td><td>123</td></tr></tbody></table></div>"
      ]
     },
     "metadata": {
      "application/vnd.databricks.v1+output": {
       "addedWidgets": {},
       "aggData": [],
       "aggError": "",
       "aggOverflow": false,
       "aggSchema": [],
       "aggSeriesLimitReached": false,
       "aggType": "",
       "arguments": {},
       "columnCustomDisplayInfos": {},
       "data": [
        [
         404,
         5
        ],
        [
         200,
         1272
        ],
        [
         302,
         6
        ],
        [
         401,
         123
        ]
       ],
       "datasetInfos": [],
       "dbfsResultPath": null,
       "isJsonSchema": true,
       "overflow": false,
       "plotOptions": {
        "customPlotOptions": {
         "plotlyBar": [
          {
           "key": "grouped",
           "value": true
          },
          {
           "key": "stacked",
           "value": false
          },
          {
           "key": "100_stacked",
           "value": false
          }
         ]
        },
        "displayType": "plotlyBar",
        "pivotAggregation": "sum",
        "pivotColumns": [],
        "xColumns": [
         "_1"
        ],
        "yColumns": [
         "_2"
        ]
       },
       "removedWidgets": [],
       "schema": [
        {
         "metadata": "{}",
         "name": "_1",
         "type": "\"long\""
        },
        {
         "metadata": "{}",
         "name": "_2",
         "type": "\"long\""
        }
       ],
       "type": "table"
      }
     },
     "output_type": "display_data"
    }
   ],
   "source": [
    "display(responseCodeToCount)"
   ]
  },
  {
   "cell_type": "code",
   "execution_count": 0,
   "metadata": {
    "application/vnd.databricks.v1+cell": {
     "inputWidgets": {},
     "nuid": "0e749e01-7e72-45f9-bdff-979a38364ed3",
     "showTitle": false,
     "title": ""
    }
   },
   "outputs": [
    {
     "data": {
      "text/html": [
       "<style scoped>\n",
       "  .ansiout {\n",
       "    display: block;\n",
       "    unicode-bidi: embed;\n",
       "    white-space: pre-wrap;\n",
       "    word-wrap: break-word;\n",
       "    word-break: break-all;\n",
       "    font-family: \"Source Code Pro\", \"Menlo\", monospace;;\n",
       "    font-size: 13px;\n",
       "    color: #555;\n",
       "    margin-left: 4px;\n",
       "    line-height: 19px;\n",
       "  }\n",
       "</style>\n",
       "<div class=\"ansiout\"></div>"
      ]
     },
     "metadata": {
      "application/vnd.databricks.v1+output": {
       "addedWidgets": {},
       "arguments": {},
       "data": "<div class=\"ansiout\"></div>",
       "datasetInfos": [],
       "removedWidgets": [],
       "type": "html"
      }
     },
     "output_type": "display_data"
    }
   ],
   "source": [
    "# the number of occurrences of each IP address that has browsed the site (only addresses with a total greater than 10 will be displayed)\n",
    "frequentIpAddressesHits = (sqlContext\n",
    "               .sql(\"SELECT ip_address, COUNT(*) AS total FROM logs GROUP BY ip_address HAVING total > 10\")\n",
    "               .rdd.map(lambda row: (row[0], row[1])))"
   ]
  },
  {
   "cell_type": "code",
   "execution_count": 0,
   "metadata": {
    "application/vnd.databricks.v1+cell": {
     "inputWidgets": {},
     "nuid": "37d3f3ed-85de-48c3-a90d-2ae2560ea962",
     "showTitle": false,
     "title": ""
    }
   },
   "outputs": [
    {
     "data": {
      "text/html": [
       "<style scoped>\n",
       "  .ansiout {\n",
       "    display: block;\n",
       "    unicode-bidi: embed;\n",
       "    white-space: pre-wrap;\n",
       "    word-wrap: break-word;\n",
       "    word-break: break-all;\n",
       "    font-family: \"Source Code Pro\", \"Menlo\", monospace;;\n",
       "    font-size: 13px;\n",
       "    color: #555;\n",
       "    margin-left: 4px;\n",
       "    line-height: 19px;\n",
       "  }\n",
       "</style>\n",
       "<div class=\"ansiout\">Out[9]: PythonRDD[46] at RDD at PythonRDD.scala:59</div>"
      ]
     },
     "metadata": {
      "application/vnd.databricks.v1+output": {
       "addedWidgets": {},
       "arguments": {},
       "data": "<div class=\"ansiout\">Out[9]: PythonRDD[46] at RDD at PythonRDD.scala:59</div>",
       "datasetInfos": [],
       "removedWidgets": [],
       "type": "html"
      }
     },
     "output_type": "display_data"
    }
   ],
   "source": [
    "frequentIpAddressesHits"
   ]
  },
  {
   "cell_type": "code",
   "execution_count": 0,
   "metadata": {
    "application/vnd.databricks.v1+cell": {
     "inputWidgets": {},
     "nuid": "44312c25-4a52-4778-a9e0-7888b7750e53",
     "showTitle": false,
     "title": ""
    }
   },
   "outputs": [
    {
     "data": {
      "text/html": [
       "<style scoped>\n",
       "  .ansiout {\n",
       "    display: block;\n",
       "    unicode-bidi: embed;\n",
       "    white-space: pre-wrap;\n",
       "    word-wrap: break-word;\n",
       "    word-break: break-all;\n",
       "    font-family: \"Source Code Pro\", \"Menlo\", monospace;;\n",
       "    font-size: 13px;\n",
       "    color: #555;\n",
       "    margin-left: 4px;\n",
       "    line-height: 19px;\n",
       "  }\n",
       "</style>\n",
       "<div class=\"ansiout\"></div>"
      ]
     },
     "metadata": {
      "application/vnd.databricks.v1+output": {
       "addedWidgets": {},
       "arguments": {},
       "data": "<div class=\"ansiout\"></div>",
       "datasetInfos": [
        {
         "name": "frequentIpAddressesHits",
         "schema": {
          "fields": [
           {
            "metadata": {},
            "name": "_1",
            "nullable": true,
            "type": "string"
           },
           {
            "metadata": {},
            "name": "_2",
            "nullable": true,
            "type": "long"
           }
          ],
          "type": "struct"
         },
         "tableIdentifier": null,
         "typeStr": "pyspark.sql.dataframe.DataFrame"
        }
       ],
       "removedWidgets": [],
       "type": "html"
      }
     },
     "output_type": "display_data"
    }
   ],
   "source": [
    "frequentIpAddressesHits=sqlContext.createDataFrame(frequentIpAddressesHits)"
   ]
  },
  {
   "cell_type": "code",
   "execution_count": 0,
   "metadata": {
    "application/vnd.databricks.v1+cell": {
     "inputWidgets": {},
     "nuid": "fc1479a0-59c3-45be-8e39-83050f07698d",
     "showTitle": false,
     "title": ""
    }
   },
   "outputs": [
    {
     "data": {
      "text/html": [
       "<style scoped>\n",
       "  .table-result-container {\n",
       "    max-height: 300px;\n",
       "    overflow: auto;\n",
       "  }\n",
       "  table, th, td {\n",
       "    border: 1px solid black;\n",
       "    border-collapse: collapse;\n",
       "  }\n",
       "  th, td {\n",
       "    padding: 5px;\n",
       "  }\n",
       "  th {\n",
       "    text-align: left;\n",
       "  }\n",
       "</style><div class='table-result-container'><table class='table-result'><thead style='background-color: white'><tr><th>_1</th><th>_2</th></tr></thead><tbody><tr><td>cr020r01-3.sac.overture.com</td><td>44</td></tr><tr><td>216-160-111-121.tukw.qwest.net</td><td>12</td></tr><tr><td>ip68-228-43-49.tc.ph.cox.net</td><td>22</td></tr><tr><td>h24-71-236-129.ca.shawcable.net</td><td>36</td></tr><tr><td>pc3-registry-stockholm.telia.net</td><td>13</td></tr><tr><td>128.227.88.79</td><td>12</td></tr><tr><td>ogw.netinfo.bg</td><td>11</td></tr><tr><td>203.147.138.233</td><td>13</td></tr><tr><td>ts04-ip92.hevanet.com</td><td>28</td></tr><tr><td>p213.54.168.132.tisdip.tiscali.de</td><td>12</td></tr><tr><td>mail.geovariances.fr</td><td>14</td></tr><tr><td>ts05-ip44.hevanet.com</td><td>13</td></tr><tr><td>ns.wtbts.org</td><td>12</td></tr><tr><td>prxint-sxb3.e-i.net</td><td>14</td></tr><tr><td>10.0.0.153</td><td>188</td></tr><tr><td>200-55-104-193.dsl.prima.net.ar</td><td>13</td></tr><tr><td>195.246.13.119</td><td>12</td></tr><tr><td>market-mail.panduit.com</td><td>29</td></tr><tr><td>h24-70-69-74.ca.shawcable.net</td><td>32</td></tr><tr><td>lhr003a.dhl.com</td><td>13</td></tr><tr><td>212.92.37.62</td><td>14</td></tr><tr><td>208-38-57-205.ip.cal.radiant.net</td><td>11</td></tr><tr><td>207.195.59.160</td><td>15</td></tr><tr><td>proxy0.haifa.ac.il</td><td>19</td></tr><tr><td>64.242.88.10</td><td>452</td></tr></tbody></table></div>"
      ]
     },
     "metadata": {
      "application/vnd.databricks.v1+output": {
       "addedWidgets": {},
       "aggData": [],
       "aggError": "",
       "aggOverflow": false,
       "aggSchema": [],
       "aggSeriesLimitReached": false,
       "aggType": "",
       "arguments": {},
       "columnCustomDisplayInfos": {},
       "data": [
        [
         "cr020r01-3.sac.overture.com",
         44
        ],
        [
         "216-160-111-121.tukw.qwest.net",
         12
        ],
        [
         "ip68-228-43-49.tc.ph.cox.net",
         22
        ],
        [
         "h24-71-236-129.ca.shawcable.net",
         36
        ],
        [
         "pc3-registry-stockholm.telia.net",
         13
        ],
        [
         "128.227.88.79",
         12
        ],
        [
         "ogw.netinfo.bg",
         11
        ],
        [
         "203.147.138.233",
         13
        ],
        [
         "ts04-ip92.hevanet.com",
         28
        ],
        [
         "p213.54.168.132.tisdip.tiscali.de",
         12
        ],
        [
         "mail.geovariances.fr",
         14
        ],
        [
         "ts05-ip44.hevanet.com",
         13
        ],
        [
         "ns.wtbts.org",
         12
        ],
        [
         "prxint-sxb3.e-i.net",
         14
        ],
        [
         "10.0.0.153",
         188
        ],
        [
         "200-55-104-193.dsl.prima.net.ar",
         13
        ],
        [
         "195.246.13.119",
         12
        ],
        [
         "market-mail.panduit.com",
         29
        ],
        [
         "h24-70-69-74.ca.shawcable.net",
         32
        ],
        [
         "lhr003a.dhl.com",
         13
        ],
        [
         "212.92.37.62",
         14
        ],
        [
         "208-38-57-205.ip.cal.radiant.net",
         11
        ],
        [
         "207.195.59.160",
         15
        ],
        [
         "proxy0.haifa.ac.il",
         19
        ],
        [
         "64.242.88.10",
         452
        ]
       ],
       "datasetInfos": [],
       "dbfsResultPath": null,
       "isJsonSchema": true,
       "overflow": false,
       "plotOptions": {
        "customPlotOptions": {},
        "displayType": "plotlyBar",
        "pivotAggregation": null,
        "pivotColumns": null,
        "xColumns": null,
        "yColumns": null
       },
       "removedWidgets": [],
       "schema": [
        {
         "metadata": "{}",
         "name": "_1",
         "type": "\"string\""
        },
        {
         "metadata": "{}",
         "name": "_2",
         "type": "\"long\""
        }
       ],
       "type": "table"
      }
     },
     "output_type": "display_data"
    }
   ],
   "source": [
    "display(frequentIpAddressesHits)\n"
   ]
  },
  {
   "cell_type": "code",
   "execution_count": 0,
   "metadata": {
    "application/vnd.databricks.v1+cell": {
     "inputWidgets": {},
     "nuid": "74203ab5-8ca0-43fd-9b40-2895e60d1c10",
     "showTitle": false,
     "title": ""
    }
   },
   "outputs": [
    {
     "data": {
      "text/html": [
       "<style scoped>\n",
       "  .ansiout {\n",
       "    display: block;\n",
       "    unicode-bidi: embed;\n",
       "    white-space: pre-wrap;\n",
       "    word-wrap: break-word;\n",
       "    word-break: break-all;\n",
       "    font-family: \"Source Code Pro\", \"Menlo\", monospace;;\n",
       "    font-size: 13px;\n",
       "    color: #555;\n",
       "    margin-left: 4px;\n",
       "    line-height: 19px;\n",
       "  }\n",
       "</style>\n",
       "<div class=\"ansiout\"></div>"
      ]
     },
     "metadata": {
      "application/vnd.databricks.v1+output": {
       "addedWidgets": {},
       "arguments": {},
       "data": "<div class=\"ansiout\"></div>",
       "datasetInfos": [],
       "removedWidgets": [],
       "type": "html"
      }
     },
     "output_type": "display_data"
    }
   ],
   "source": [
    "# traffic size by date \n",
    "trafficWithTime = (sqlContext\n",
    "                       .sql(\"SELECT date, content_size/1024 FROM logs\")\n",
    "                       .rdd.map(lambda row: (row[0], row[1])))\n",
    "               "
   ]
  },
  {
   "cell_type": "code",
   "execution_count": 0,
   "metadata": {
    "application/vnd.databricks.v1+cell": {
     "inputWidgets": {},
     "nuid": "865e96fa-e5cf-4712-86bb-47a89f03b2a5",
     "showTitle": false,
     "title": ""
    }
   },
   "outputs": [
    {
     "data": {
      "text/html": [
       "<style scoped>\n",
       "  .ansiout {\n",
       "    display: block;\n",
       "    unicode-bidi: embed;\n",
       "    white-space: pre-wrap;\n",
       "    word-wrap: break-word;\n",
       "    word-break: break-all;\n",
       "    font-family: \"Source Code Pro\", \"Menlo\", monospace;;\n",
       "    font-size: 13px;\n",
       "    color: #555;\n",
       "    margin-left: 4px;\n",
       "    line-height: 19px;\n",
       "  }\n",
       "</style>\n",
       "<div class=\"ansiout\">Out[17]: 1406</div>"
      ]
     },
     "metadata": {
      "application/vnd.databricks.v1+output": {
       "addedWidgets": {},
       "arguments": {},
       "data": "<div class=\"ansiout\">Out[17]: 1406</div>",
       "datasetInfos": [
        {
         "name": "trafficWithTime",
         "schema": {
          "fields": [
           {
            "metadata": {},
            "name": "_1",
            "nullable": true,
            "type": "string"
           },
           {
            "metadata": {},
            "name": "_2",
            "nullable": true,
            "type": "double"
           }
          ],
          "type": "struct"
         },
         "tableIdentifier": null,
         "typeStr": "pyspark.sql.dataframe.DataFrame"
        }
       ],
       "removedWidgets": [],
       "type": "html"
      }
     },
     "output_type": "display_data"
    }
   ],
   "source": [
    "trafficWithTime=sqlContext.createDataFrame(trafficWithTime)\n",
    "trafficWithTime.count()"
   ]
  },
  {
   "cell_type": "code",
   "execution_count": 0,
   "metadata": {
    "application/vnd.databricks.v1+cell": {
     "inputWidgets": {},
     "nuid": "261e9efa-d76e-44ad-a981-8a7e0565937f",
     "showTitle": false,
     "title": ""
    }
   },
   "outputs": [
    {
     "data": {
      "text/html": [
       "<style scoped>\n",
       "  .table-result-container {\n",
       "    max-height: 300px;\n",
       "    overflow: auto;\n",
       "  }\n",
       "  table, th, td {\n",
       "    border: 1px solid black;\n",
       "    border-collapse: collapse;\n",
       "  }\n",
       "  th, td {\n",
       "    padding: 5px;\n",
       "  }\n",
       "  th {\n",
       "    text-align: left;\n",
       "  }\n",
       "</style><div class='table-result-container'><table class='table-result'><thead style='background-color: white'><tr><th>_1</th><th>_2</th></tr></thead><tbody><tr><td>07/Mar/2004</td><td>12.544921875</td></tr><tr><td>07/Mar/2004</td><td>4.4169921875</td></tr><tr><td>07/Mar/2004</td><td>6.1435546875</td></tr><tr><td>07/Mar/2004</td><td>7.1796875</td></tr><tr><td>07/Mar/2004</td><td>5.1298828125</td></tr><tr><td>07/Mar/2004</td><td>11.115234375</td></tr><tr><td>07/Mar/2004</td><td>4.80859375</td></tr><tr><td>07/Mar/2004</td><td>12.5498046875</td></tr><tr><td>07/Mar/2004</td><td>12.5498046875</td></tr><tr><td>07/Mar/2004</td><td>3.64453125</td></tr><tr><td>07/Mar/2004</td><td>39.5703125</td></tr><tr><td>07/Mar/2004</td><td>12.5498046875</td></tr><tr><td>07/Mar/2004</td><td>6.2294921875</td></tr><tr><td>07/Mar/2004</td><td>45.2861328125</td></tr><tr><td>07/Mar/2004</td><td>4.04296875</td></tr><tr><td>07/Mar/2004</td><td>3.7626953125</td></tr><tr><td>07/Mar/2004</td><td>3.599609375</td></tr><tr><td>07/Mar/2004</td><td>12.544921875</td></tr><tr><td>07/Mar/2004</td><td>0.06640625</td></tr><tr><td>07/Mar/2004</td><td>5.58984375</td></tr><tr><td>07/Mar/2004</td><td>5.041015625</td></tr><tr><td>07/Mar/2004</td><td>58.2802734375</td></tr><tr><td>07/Mar/2004</td><td>12.5498046875</td></tr><tr><td>07/Mar/2004</td><td>33.5888671875</td></tr><tr><td>07/Mar/2004</td><td>7.0654296875</td></tr><tr><td>07/Mar/2004</td><td>8.3447265625</td></tr><tr><td>07/Mar/2004</td><td>6.3076171875</td></tr><tr><td>07/Mar/2004</td><td>2.8017578125</td></tr><tr><td>07/Mar/2004</td><td>4.18359375</td></tr><tr><td>07/Mar/2004</td><td>11.1328125</td></tr><tr><td>07/Mar/2004</td><td>12.544921875</td></tr><tr><td>07/Mar/2004</td><td>3.5888671875</td></tr><tr><td>07/Mar/2004</td><td>5.6376953125</td></tr><tr><td>07/Mar/2004</td><td>0.06640625</td></tr><tr><td>07/Mar/2004</td><td>3.76953125</td></tr><tr><td>07/Mar/2004</td><td>12.544921875</td></tr><tr><td>07/Mar/2004</td><td>9.091796875</td></tr><tr><td>07/Mar/2004</td><td>0.7890625</td></tr><tr><td>07/Mar/2004</td><td>5.7958984375</td></tr><tr><td>07/Mar/2004</td><td>12.544921875</td></tr><tr><td>07/Mar/2004</td><td>11.0166015625</td></tr><tr><td>07/Mar/2004</td><td>8.599609375</td></tr><tr><td>07/Mar/2004</td><td>12.544921875</td></tr><tr><td>07/Mar/2004</td><td>3.7578125</td></tr><tr><td>07/Mar/2004</td><td>3.9853515625</td></tr><tr><td>07/Mar/2004</td><td>11.0166015625</td></tr><tr><td>07/Mar/2004</td><td>4.3798828125</td></tr><tr><td>07/Mar/2004</td><td>5.111328125</td></tr><tr><td>07/Mar/2004</td><td>3.53125</td></tr><tr><td>07/Mar/2004</td><td>7.5888671875</td></tr><tr><td>07/Mar/2004</td><td>22.791015625</td></tr><tr><td>07/Mar/2004</td><td>12.544921875</td></tr><tr><td>07/Mar/2004</td><td>12.544921875</td></tr><tr><td>07/Mar/2004</td><td>8.61328125</td></tr><tr><td>07/Mar/2004</td><td>6.65625</td></tr><tr><td>07/Mar/2004</td><td>0.2041015625</td></tr><tr><td>07/Mar/2004</td><td>11.048828125</td></tr><tr><td>07/Mar/2004</td><td>12.544921875</td></tr><tr><td>07/Mar/2004</td><td>3.0224609375</td></tr><tr><td>07/Mar/2004</td><td>3.720703125</td></tr><tr><td>07/Mar/2004</td><td>6.78515625</td></tr><tr><td>07/Mar/2004</td><td>12.544921875</td></tr><tr><td>07/Mar/2004</td><td>3.296875</td></tr><tr><td>07/Mar/2004</td><td>3.5</td></tr><tr><td>07/Mar/2004</td><td>4.44140625</td></tr><tr><td>07/Mar/2004</td><td>6.1962890625</td></tr><tr><td>07/Mar/2004</td><td>4.3447265625</td></tr><tr><td>07/Mar/2004</td><td>12.544921875</td></tr><tr><td>07/Mar/2004</td><td>24.8203125</td></tr><tr><td>07/Mar/2004</td><td>4.20703125</td></tr><tr><td>07/Mar/2004</td><td>3.4609375</td></tr><tr><td>07/Mar/2004</td><td>12.544921875</td></tr><tr><td>07/Mar/2004</td><td>11.01953125</td></tr><tr><td>07/Mar/2004</td><td>26.609375</td></tr><tr><td>07/Mar/2004</td><td>12.544921875</td></tr><tr><td>07/Mar/2004</td><td>5.8271484375</td></tr><tr><td>07/Mar/2004</td><td>3.51171875</td></tr><tr><td>07/Mar/2004</td><td>12.544921875</td></tr><tr><td>07/Mar/2004</td><td>135.5361328125</td></tr><tr><td>07/Mar/2004</td><td>3.54296875</td></tr><tr><td>07/Mar/2004</td><td>12.5498046875</td></tr><tr><td>07/Mar/2004</td><td>51.615234375</td></tr><tr><td>07/Mar/2004</td><td>12.5498046875</td></tr><tr><td>07/Mar/2004</td><td>5.998046875</td></tr><tr><td>07/Mar/2004</td><td>111.5634765625</td></tr><tr><td>07/Mar/2004</td><td>12.544921875</td></tr><tr><td>07/Mar/2004</td><td>20.666015625</td></tr><tr><td>07/Mar/2004</td><td>4.41796875</td></tr><tr><td>07/Mar/2004</td><td>11.17578125</td></tr><tr><td>07/Mar/2004</td><td>12.544921875</td></tr><tr><td>07/Mar/2004</td><td>2.8681640625</td></tr><tr><td>07/Mar/2004</td><td>9.091796875</td></tr><tr><td>07/Mar/2004</td><td>12.544921875</td></tr><tr><td>07/Mar/2004</td><td>12.544921875</td></tr><tr><td>07/Mar/2004</td><td>12.544921875</td></tr><tr><td>07/Mar/2004</td><td>11.0791015625</td></tr><tr><td>07/Mar/2004</td><td>3.748046875</td></tr><tr><td>07/Mar/2004</td><td>7.126953125</td></tr><tr><td>07/Mar/2004</td><td>11.001953125</td></tr><tr><td>07/Mar/2004</td><td>45.2861328125</td></tr><tr><td>07/Mar/2004</td><td>3.736328125</td></tr><tr><td>07/Mar/2004</td><td>20.48046875</td></tr><tr><td>07/Mar/2004</td><td>12.544921875</td></tr><tr><td>07/Mar/2004</td><td>7.0751953125</td></tr><tr><td>07/Mar/2004</td><td>0.0</td></tr><tr><td>07/Mar/2004</td><td>12.544921875</td></tr><tr><td>07/Mar/2004</td><td>12.5498046875</td></tr><tr><td>07/Mar/2004</td><td>0.06640625</td></tr><tr><td>07/Mar/2004</td><td>12.544921875</td></tr><tr><td>07/Mar/2004</td><td>12.544921875</td></tr><tr><td>07/Mar/2004</td><td>9.880859375</td></tr><tr><td>07/Mar/2004</td><td>12.544921875</td></tr><tr><td>07/Mar/2004</td><td>6.580078125</td></tr><tr><td>07/Mar/2004</td><td>7.1396484375</td></tr><tr><td>07/Mar/2004</td><td>16.279296875</td></tr><tr><td>07/Mar/2004</td><td>5.1533203125</td></tr><tr><td>07/Mar/2004</td><td>4.865234375</td></tr><tr><td>07/Mar/2004</td><td>12.544921875</td></tr><tr><td>07/Mar/2004</td><td>6.146484375</td></tr><tr><td>07/Mar/2004</td><td>13.740234375</td></tr><tr><td>07/Mar/2004</td><td>12.544921875</td></tr><tr><td>07/Mar/2004</td><td>11.767578125</td></tr><tr><td>07/Mar/2004</td><td>11.0166015625</td></tr><tr><td>07/Mar/2004</td><td>39.626953125</td></tr><tr><td>07/Mar/2004</td><td>5.708984375</td></tr><tr><td>07/Mar/2004</td><td>0.29296875</td></tr><tr><td>07/Mar/2004</td><td>1.052734375</td></tr><tr><td>07/Mar/2004</td><td>0.763671875</td></tr><tr><td>07/Mar/2004</td><td>10.1748046875</td></tr><tr><td>07/Mar/2004</td><td>2.8095703125</td></tr><tr><td>07/Mar/2004</td><td>6.5400390625</td></tr><tr><td>07/Mar/2004</td><td>4.7861328125</td></tr><tr><td>07/Mar/2004</td><td>12.544921875</td></tr><tr><td>07/Mar/2004</td><td>6.2490234375</td></tr><tr><td>07/Mar/2004</td><td>7.2880859375</td></tr><tr><td>07/Mar/2004</td><td>12.544921875</td></tr><tr><td>07/Mar/2004</td><td>25.9189453125</td></tr><tr><td>07/Mar/2004</td><td>2.24609375</td></tr><tr><td>07/Mar/2004</td><td>12.544921875</td></tr><tr><td>07/Mar/2004</td><td>6.0107421875</td></tr><tr><td>07/Mar/2004</td><td>15.251953125</td></tr><tr><td>07/Mar/2004</td><td>12.544921875</td></tr><tr><td>07/Mar/2004</td><td>54.552734375</td></tr><tr><td>07/Mar/2004</td><td>99.0673828125</td></tr><tr><td>07/Mar/2004</td><td>4.9365234375</td></tr><tr><td>07/Mar/2004</td><td>6.369140625</td></tr><tr><td>07/Mar/2004</td><td>12.544921875</td></tr><tr><td>07/Mar/2004</td><td>3.5322265625</td></tr><tr><td>07/Mar/2004</td><td>12.544921875</td></tr><tr><td>07/Mar/2004</td><td>12.544921875</td></tr><tr><td>07/Mar/2004</td><td>4.263671875</td></tr><tr><td>07/Mar/2004</td><td>12.544921875</td></tr><tr><td>07/Mar/2004</td><td>6.1962890625</td></tr><tr><td>07/Mar/2004</td><td>9.3388671875</td></tr><tr><td>07/Mar/2004</td><td>12.544921875</td></tr><tr><td>07/Mar/2004</td><td>4.5029296875</td></tr><tr><td>07/Mar/2004</td><td>3.302734375</td></tr><tr><td>07/Mar/2004</td><td>1.974609375</td></tr><tr><td>07/Mar/2004</td><td>0.9228515625</td></tr><tr><td>07/Mar/2004</td><td>2.9775390625</td></tr><tr><td>07/Mar/2004</td><td>3.4501953125</td></tr><tr><td>07/Mar/2004</td><td>13.6455078125</td></tr><tr><td>07/Mar/2004</td><td>16.9541015625</td></tr><tr><td>07/Mar/2004</td><td>12.5498046875</td></tr><tr><td>07/Mar/2004</td><td>5.2109375</td></tr><tr><td>07/Mar/2004</td><td>4.26171875</td></tr><tr><td>07/Mar/2004</td><td>12.544921875</td></tr><tr><td>07/Mar/2004</td><td>8.9189453125</td></tr><tr><td>07/Mar/2004</td><td>5.8486328125</td></tr><tr><td>07/Mar/2004</td><td>12.5498046875</td></tr><tr><td>07/Mar/2004</td><td>5.01953125</td></tr><tr><td>07/Mar/2004</td><td>6.578125</td></tr><tr><td>07/Mar/2004</td><td>3.7626953125</td></tr><tr><td>07/Mar/2004</td><td>3.6103515625</td></tr><tr><td>07/Mar/2004</td><td>18.3134765625</td></tr><tr><td>07/Mar/2004</td><td>3.677734375</td></tr><tr><td>07/Mar/2004</td><td>14.15234375</td></tr><tr><td>07/Mar/2004</td><td>20.4892578125</td></tr><tr><td>07/Mar/2004</td><td>9.30078125</td></tr><tr><td>07/Mar/2004</td><td>16.4580078125</td></tr><tr><td>07/Mar/2004</td><td>14.0966796875</td></tr><tr><td>07/Mar/2004</td><td>5.7529296875</td></tr><tr><td>07/Mar/2004</td><td>19.560546875</td></tr><tr><td>07/Mar/2004</td><td>105.626953125</td></tr><tr><td>07/Mar/2004</td><td>12.5498046875</td></tr><tr><td>07/Mar/2004</td><td>5.0859375</td></tr><tr><td>07/Mar/2004</td><td>0.06640625</td></tr><tr><td>07/Mar/2004</td><td>0.2041015625</td></tr><tr><td>07/Mar/2004</td><td>6.45703125</td></tr><tr><td>07/Mar/2004</td><td>12.544921875</td></tr><tr><td>07/Mar/2004</td><td>5.46484375</td></tr><tr><td>07/Mar/2004</td><td>3.7626953125</td></tr><tr><td>07/Mar/2004</td><td>3.5439453125</td></tr><tr><td>07/Mar/2004</td><td>4.552734375</td></tr><tr><td>07/Mar/2004</td><td>12.5498046875</td></tr><tr><td>08/Mar/2004</td><td>3.0947265625</td></tr><tr><td>08/Mar/2004</td><td>1.052734375</td></tr><tr><td>08/Mar/2004</td><td>2.810546875</td></tr><tr><td>08/Mar/2004</td><td>4.126953125</td></tr><tr><td>08/Mar/2004</td><td>12.544921875</td></tr><tr><td>08/Mar/2004</td><td>0.2041015625</td></tr><tr><td>08/Mar/2004</td><td>1.6884765625</td></tr><tr><td>08/Mar/2004</td><td>6.8837890625</td></tr><tr><td>08/Mar/2004</td><td>12.4384765625</td></tr><tr><td>08/Mar/2004</td><td>22.177734375</td></tr><tr><td>08/Mar/2004</td><td>3.673828125</td></tr><tr><td>08/Mar/2004</td><td>17.3408203125</td></tr><tr><td>08/Mar/2004</td><td>12.544921875</td></tr><tr><td>08/Mar/2004</td><td>9.0419921875</td></tr><tr><td>08/Mar/2004</td><td>6.404296875</td></tr><tr><td>08/Mar/2004</td><td>12.544921875</td></tr><tr><td>08/Mar/2004</td><td>19.8984375</td></tr><tr><td>08/Mar/2004</td><td>2.099609375</td></tr><tr><td>08/Mar/2004</td><td>1.5126953125</td></tr><tr><td>08/Mar/2004</td><td>6.1015625</td></tr><tr><td>08/Mar/2004</td><td>7.056640625</td></tr><tr><td>08/Mar/2004</td><td>3.9169921875</td></tr><tr><td>08/Mar/2004</td><td>4.6123046875</td></tr><tr><td>08/Mar/2004</td><td>4.6103515625</td></tr><tr><td>08/Mar/2004</td><td>12.544921875</td></tr><tr><td>08/Mar/2004</td><td>0.2041015625</td></tr><tr><td>08/Mar/2004</td><td>19.955078125</td></tr><tr><td>08/Mar/2004</td><td>4.2763671875</td></tr><tr><td>08/Mar/2004</td><td>17.4990234375</td></tr><tr><td>08/Mar/2004</td><td>12.544921875</td></tr><tr><td>08/Mar/2004</td><td>25.677734375</td></tr><tr><td>08/Mar/2004</td><td>8.111328125</td></tr><tr><td>08/Mar/2004</td><td>11.0751953125</td></tr><tr><td>08/Mar/2004</td><td>1.4951171875</td></tr><tr><td>08/Mar/2004</td><td>1.5068359375</td></tr><tr><td>08/Mar/2004</td><td>12.544921875</td></tr><tr><td>08/Mar/2004</td><td>13.6728515625</td></tr><tr><td>08/Mar/2004</td><td>98.9052734375</td></tr><tr><td>08/Mar/2004</td><td>12.544921875</td></tr><tr><td>08/Mar/2004</td><td>9.123046875</td></tr><tr><td>08/Mar/2004</td><td>5.1201171875</td></tr><tr><td>08/Mar/2004</td><td>12.544921875</td></tr><tr><td>08/Mar/2004</td><td>6.048828125</td></tr><tr><td>08/Mar/2004</td><td>5.9091796875</td></tr><tr><td>08/Mar/2004</td><td>2.01171875</td></tr><tr><td>08/Mar/2004</td><td>6.1494140625</td></tr><tr><td>08/Mar/2004</td><td>5.958984375</td></tr><tr><td>08/Mar/2004</td><td>5.8828125</td></tr><tr><td>08/Mar/2004</td><td>4.36328125</td></tr><tr><td>08/Mar/2004</td><td>12.544921875</td></tr><tr><td>08/Mar/2004</td><td>37.67578125</td></tr><tr><td>08/Mar/2004</td><td>0.2041015625</td></tr><tr><td>08/Mar/2004</td><td>4.751953125</td></tr><tr><td>08/Mar/2004</td><td>20.48046875</td></tr><tr><td>08/Mar/2004</td><td>6.38671875</td></tr><tr><td>08/Mar/2004</td><td>24.5341796875</td></tr><tr><td>08/Mar/2004</td><td>4.2119140625</td></tr><tr><td>08/Mar/2004</td><td>9.5400390625</td></tr><tr><td>08/Mar/2004</td><td>6.1240234375</td></tr><tr><td>08/Mar/2004</td><td>99.9990234375</td></tr><tr><td>08/Mar/2004</td><td>12.5498046875</td></tr><tr><td>08/Mar/2004</td><td>6.7314453125</td></tr><tr><td>08/Mar/2004</td><td>0.2041015625</td></tr><tr><td>08/Mar/2004</td><td>10.1484375</td></tr><tr><td>08/Mar/2004</td><td>2.8095703125</td></tr><tr><td>08/Mar/2004</td><td>4.0751953125</td></tr><tr><td>08/Mar/2004</td><td>3.927734375</td></tr><tr><td>08/Mar/2004</td><td>12.544921875</td></tr><tr><td>08/Mar/2004</td><td>70.2548828125</td></tr><tr><td>08/Mar/2004</td><td>6.03515625</td></tr><tr><td>08/Mar/2004</td><td>3.486328125</td></tr><tr><td>08/Mar/2004</td><td>15.38671875</td></tr><tr><td>08/Mar/2004</td><td>6.1826171875</td></tr><tr><td>08/Mar/2004</td><td>4.9931640625</td></tr><tr><td>08/Mar/2004</td><td>11.09765625</td></tr><tr><td>08/Mar/2004</td><td>7.81640625</td></tr><tr><td>08/Mar/2004</td><td>3.435546875</td></tr><tr><td>08/Mar/2004</td><td>1.4921875</td></tr><tr><td>08/Mar/2004</td><td>4.6982421875</td></tr><tr><td>08/Mar/2004</td><td>20.240234375</td></tr><tr><td>08/Mar/2004</td><td>5.1533203125</td></tr><tr><td>08/Mar/2004</td><td>2.8017578125</td></tr><tr><td>08/Mar/2004</td><td>7.4697265625</td></tr><tr><td>08/Mar/2004</td><td>12.544921875</td></tr><tr><td>08/Mar/2004</td><td>12.544921875</td></tr><tr><td>08/Mar/2004</td><td>5.2939453125</td></tr><tr><td>08/Mar/2004</td><td>4.6083984375</td></tr><tr><td>08/Mar/2004</td><td>12.544921875</td></tr><tr><td>08/Mar/2004</td><td>0.06640625</td></tr><tr><td>08/Mar/2004</td><td>0.2041015625</td></tr><tr><td>08/Mar/2004</td><td>12.544921875</td></tr><tr><td>08/Mar/2004</td><td>10.013671875</td></tr><tr><td>08/Mar/2004</td><td>3.6513671875</td></tr><tr><td>08/Mar/2004</td><td>22.2431640625</td></tr><tr><td>08/Mar/2004</td><td>18.4833984375</td></tr><tr><td>08/Mar/2004</td><td>12.544921875</td></tr><tr><td>08/Mar/2004</td><td>12.544921875</td></tr><tr><td>08/Mar/2004</td><td>5.5390625</td></tr><tr><td>08/Mar/2004</td><td>10.1484375</td></tr><tr><td>08/Mar/2004</td><td>3.8671875</td></tr><tr><td>08/Mar/2004</td><td>4.7958984375</td></tr><tr><td>08/Mar/2004</td><td>4.4091796875</td></tr><tr><td>08/Mar/2004</td><td>4.1142578125</td></tr><tr><td>08/Mar/2004</td><td>3.91015625</td></tr><tr><td>08/Mar/2004</td><td>4.056640625</td></tr><tr><td>08/Mar/2004</td><td>4.783203125</td></tr><tr><td>08/Mar/2004</td><td>3.5322265625</td></tr><tr><td>08/Mar/2004</td><td>4.537109375</td></tr><tr><td>08/Mar/2004</td><td>56.8056640625</td></tr><tr><td>08/Mar/2004</td><td>12.515625</td></tr><tr><td>08/Mar/2004</td><td>0.126953125</td></tr><tr><td>08/Mar/2004</td><td>2.0703125</td></tr><tr><td>08/Mar/2004</td><td>12.544921875</td></tr><tr><td>08/Mar/2004</td><td>9.26953125</td></tr><tr><td>08/Mar/2004</td><td>6.0869140625</td></tr><tr><td>08/Mar/2004</td><td>12.544921875</td></tr><tr><td>08/Mar/2004</td><td>12.544921875</td></tr><tr><td>08/Mar/2004</td><td>5.2021484375</td></tr><tr><td>08/Mar/2004</td><td>10.1748046875</td></tr><tr><td>08/Mar/2004</td><td>2.8095703125</td></tr><tr><td>08/Mar/2004</td><td>1.052734375</td></tr><tr><td>08/Mar/2004</td><td>10.1748046875</td></tr><tr><td>08/Mar/2004</td><td>3.939453125</td></tr><tr><td>08/Mar/2004</td><td>5.5576171875</td></tr><tr><td>08/Mar/2004</td><td>4.134765625</td></tr><tr><td>08/Mar/2004</td><td>10.1484375</td></tr><tr><td>08/Mar/2004</td><td>2.8095703125</td></tr><tr><td>08/Mar/2004</td><td>43.90625</td></tr><tr><td>08/Mar/2004</td><td>1.5126953125</td></tr><tr><td>08/Mar/2004</td><td>2.8017578125</td></tr><tr><td>08/Mar/2004</td><td>1.052734375</td></tr><tr><td>08/Mar/2004</td><td>12.544921875</td></tr><tr><td>08/Mar/2004</td><td>5.4130859375</td></tr><tr><td>08/Mar/2004</td><td>3.0947265625</td></tr><tr><td>08/Mar/2004</td><td>12.544921875</td></tr><tr><td>08/Mar/2004</td><td>7.2607421875</td></tr><tr><td>08/Mar/2004</td><td>3.6123046875</td></tr><tr><td>08/Mar/2004</td><td>2.31640625</td></tr><tr><td>08/Mar/2004</td><td>12.5498046875</td></tr><tr><td>08/Mar/2004</td><td>0.126953125</td></tr><tr><td>08/Mar/2004</td><td>5.1298828125</td></tr><tr><td>08/Mar/2004</td><td>3.48046875</td></tr><tr><td>08/Mar/2004</td><td>12.544921875</td></tr><tr><td>08/Mar/2004</td><td>4.5068359375</td></tr><tr><td>08/Mar/2004</td><td>4.7158203125</td></tr><tr><td>08/Mar/2004</td><td>12.5498046875</td></tr><tr><td>08/Mar/2004</td><td>4.1328125</td></tr><tr><td>08/Mar/2004</td><td>0.06640625</td></tr><tr><td>08/Mar/2004</td><td>4.2666015625</td></tr><tr><td>08/Mar/2004</td><td>12.794921875</td></tr><tr><td>08/Mar/2004</td><td>11.8291015625</td></tr><tr><td>08/Mar/2004</td><td>12.5498046875</td></tr><tr><td>08/Mar/2004</td><td>4.28515625</td></tr><tr><td>08/Mar/2004</td><td>12.5498046875</td></tr><tr><td>08/Mar/2004</td><td>2.09375</td></tr><tr><td>08/Mar/2004</td><td>111.4912109375</td></tr><tr><td>08/Mar/2004</td><td>2.6533203125</td></tr><tr><td>08/Mar/2004</td><td>12.544921875</td></tr><tr><td>08/Mar/2004</td><td>12.32421875</td></tr><tr><td>08/Mar/2004</td><td>5.2626953125</td></tr><tr><td>08/Mar/2004</td><td>1.1484375</td></tr><tr><td>08/Mar/2004</td><td>20.0078125</td></tr><tr><td>08/Mar/2004</td><td>12.544921875</td></tr><tr><td>08/Mar/2004</td><td>10.1748046875</td></tr><tr><td>08/Mar/2004</td><td>2.8095703125</td></tr><tr><td>08/Mar/2004</td><td>12.544921875</td></tr><tr><td>08/Mar/2004</td><td>5.5771484375</td></tr><tr><td>08/Mar/2004</td><td>11.50390625</td></tr><tr><td>08/Mar/2004</td><td>10.1748046875</td></tr><tr><td>08/Mar/2004</td><td>3.8720703125</td></tr><tr><td>08/Mar/2004</td><td>12.544921875</td></tr><tr><td>08/Mar/2004</td><td>3.9853515625</td></tr><tr><td>08/Mar/2004</td><td>8.1171875</td></tr><tr><td>08/Mar/2004</td><td>3.685546875</td></tr><tr><td>08/Mar/2004</td><td>12.5498046875</td></tr><tr><td>08/Mar/2004</td><td>40.462890625</td></tr><tr><td>08/Mar/2004</td><td>3.66015625</td></tr><tr><td>08/Mar/2004</td><td>12.544921875</td></tr><tr><td>08/Mar/2004</td><td>6.2275390625</td></tr><tr><td>08/Mar/2004</td><td>2.8017578125</td></tr><tr><td>08/Mar/2004</td><td>5.912109375</td></tr><tr><td>08/Mar/2004</td><td>0.27734375</td></tr><tr><td>08/Mar/2004</td><td>7.1953125</td></tr><tr><td>08/Mar/2004</td><td>0.27734375</td></tr><tr><td>08/Mar/2004</td><td>2.0234375</td></tr><tr><td>08/Mar/2004</td><td>5.908203125</td></tr><tr><td>08/Mar/2004</td><td>12.544921875</td></tr><tr><td>08/Mar/2004</td><td>7.0380859375</td></tr><tr><td>08/Mar/2004</td><td>12.544921875</td></tr><tr><td>08/Mar/2004</td><td>3.9765625</td></tr><tr><td>08/Mar/2004</td><td>41.2939453125</td></tr><tr><td>08/Mar/2004</td><td>12.544921875</td></tr><tr><td>08/Mar/2004</td><td>5.9189453125</td></tr><tr><td>08/Mar/2004</td><td>7.7099609375</td></tr><tr><td>08/Mar/2004</td><td>3.435546875</td></tr><tr><td>08/Mar/2004</td><td>20.6298828125</td></tr><tr><td>08/Mar/2004</td><td>10.6796875</td></tr><tr><td>08/Mar/2004</td><td>7.7529296875</td></tr><tr><td>08/Mar/2004</td><td>12.544921875</td></tr><tr><td>08/Mar/2004</td><td>4.0654296875</td></tr><tr><td>08/Mar/2004</td><td>7.1953125</td></tr><tr><td>08/Mar/2004</td><td>7.1953125</td></tr><tr><td>08/Mar/2004</td><td>5.0595703125</td></tr><tr><td>08/Mar/2004</td><td>12.544921875</td></tr><tr><td>08/Mar/2004</td><td>12.544921875</td></tr><tr><td>08/Mar/2004</td><td>44.0029296875</td></tr><tr><td>08/Mar/2004</td><td>3.0302734375</td></tr><tr><td>08/Mar/2004</td><td>3.0947265625</td></tr><tr><td>08/Mar/2004</td><td>1.052734375</td></tr><tr><td>08/Mar/2004</td><td>3.4912109375</td></tr><tr><td>08/Mar/2004</td><td>4.11328125</td></tr><tr><td>08/Mar/2004</td><td>3.0947265625</td></tr><tr><td>08/Mar/2004</td><td>10.1748046875</td></tr><tr><td>08/Mar/2004</td><td>2.8095703125</td></tr><tr><td>08/Mar/2004</td><td>4.3408203125</td></tr><tr><td>08/Mar/2004</td><td>3.939453125</td></tr><tr><td>08/Mar/2004</td><td>5.5576171875</td></tr><tr><td>08/Mar/2004</td><td>7.14453125</td></tr><tr><td>08/Mar/2004</td><td>3.6416015625</td></tr><tr><td>08/Mar/2004</td><td>3.0947265625</td></tr><tr><td>08/Mar/2004</td><td>5.4130859375</td></tr><tr><td>08/Mar/2004</td><td>5.1298828125</td></tr><tr><td>08/Mar/2004</td><td>10.1748046875</td></tr><tr><td>08/Mar/2004</td><td>7.2607421875</td></tr><tr><td>08/Mar/2004</td><td>3.921875</td></tr><tr><td>08/Mar/2004</td><td>4.0751953125</td></tr><tr><td>08/Mar/2004</td><td>3.5439453125</td></tr><tr><td>08/Mar/2004</td><td>8.61328125</td></tr><tr><td>08/Mar/2004</td><td>3.87890625</td></tr><tr><td>08/Mar/2004</td><td>5.275390625</td></tr><tr><td>08/Mar/2004</td><td>7.1953125</td></tr><tr><td>08/Mar/2004</td><td>4.85546875</td></tr><tr><td>08/Mar/2004</td><td>5.1064453125</td></tr><tr><td>08/Mar/2004</td><td>3.939453125</td></tr><tr><td>08/Mar/2004</td><td>5.5576171875</td></tr><tr><td>08/Mar/2004</td><td>12.544921875</td></tr><tr><td>08/Mar/2004</td><td>3.0947265625</td></tr><tr><td>08/Mar/2004</td><td>7.4697265625</td></tr><tr><td>08/Mar/2004</td><td>16.353515625</td></tr><tr><td>08/Mar/2004</td><td>14.1455078125</td></tr><tr><td>08/Mar/2004</td><td>1.521484375</td></tr><tr><td>08/Mar/2004</td><td>3.0947265625</td></tr><tr><td>08/Mar/2004</td><td>10.1748046875</td></tr><tr><td>08/Mar/2004</td><td>2.8095703125</td></tr><tr><td>08/Mar/2004</td><td>2.9169921875</td></tr><tr><td>08/Mar/2004</td><td>7.154296875</td></tr><tr><td>08/Mar/2004</td><td>7.7412109375</td></tr><tr><td>08/Mar/2004</td><td>7.013671875</td></tr><tr><td>08/Mar/2004</td><td>8.658203125</td></tr><tr><td>08/Mar/2004</td><td>9.0888671875</td></tr><tr><td>08/Mar/2004</td><td>6.6455078125</td></tr><tr><td>08/Mar/2004</td><td>6.44140625</td></tr><tr><td>08/Mar/2004</td><td>5.3701171875</td></tr><tr><td>08/Mar/2004</td><td>6.5400390625</td></tr><tr><td>08/Mar/2004</td><td>2.8857421875</td></tr><tr><td>08/Mar/2004</td><td>12.544921875</td></tr><tr><td>08/Mar/2004</td><td>1.53515625</td></tr><tr><td>08/Mar/2004</td><td>8.576171875</td></tr><tr><td>08/Mar/2004</td><td>3.0947265625</td></tr><tr><td>08/Mar/2004</td><td>2.8857421875</td></tr><tr><td>08/Mar/2004</td><td>2.96875</td></tr><tr><td>08/Mar/2004</td><td>2.2861328125</td></tr><tr><td>08/Mar/2004</td><td>2.2177734375</td></tr><tr><td>08/Mar/2004</td><td>3.224609375</td></tr><tr><td>08/Mar/2004</td><td>1.6240234375</td></tr><tr><td>08/Mar/2004</td><td>2.4619140625</td></tr><tr><td>08/Mar/2004</td><td>1.873046875</td></tr><tr><td>08/Mar/2004</td><td>1.54296875</td></tr><tr><td>08/Mar/2004</td><td>2.150390625</td></tr><tr><td>08/Mar/2004</td><td>1.779296875</td></tr><tr><td>08/Mar/2004</td><td>1.490234375</td></tr><tr><td>08/Mar/2004</td><td>2.96875</td></tr><tr><td>08/Mar/2004</td><td>2.2177734375</td></tr><tr><td>08/Mar/2004</td><td>2.2861328125</td></tr><tr><td>08/Mar/2004</td><td>3.224609375</td></tr><tr><td>08/Mar/2004</td><td>1.54296875</td></tr><tr><td>08/Mar/2004</td><td>1.873046875</td></tr><tr><td>08/Mar/2004</td><td>1.6240234375</td></tr><tr><td>08/Mar/2004</td><td>2.150390625</td></tr><tr><td>08/Mar/2004</td><td>2.4619140625</td></tr><tr><td>08/Mar/2004</td><td>1.779296875</td></tr><tr><td>08/Mar/2004</td><td>1.490234375</td></tr><tr><td>08/Mar/2004</td><td>3.8876953125</td></tr><tr><td>08/Mar/2004</td><td>11.7998046875</td></tr><tr><td>08/Mar/2004</td><td>0.06640625</td></tr><tr><td>08/Mar/2004</td><td>0.2041015625</td></tr><tr><td>08/Mar/2004</td><td>10.1748046875</td></tr><tr><td>08/Mar/2004</td><td>1.052734375</td></tr><tr><td>08/Mar/2004</td><td>2.8095703125</td></tr><tr><td>08/Mar/2004</td><td>9.1982421875</td></tr><tr><td>08/Mar/2004</td><td>5.7939453125</td></tr><tr><td>08/Mar/2004</td><td>3.48046875</td></tr><tr><td>08/Mar/2004</td><td>0.2041015625</td></tr><tr><td>08/Mar/2004</td><td>42.1044921875</td></tr><tr><td>08/Mar/2004</td><td>12.544921875</td></tr><tr><td>08/Mar/2004</td><td>4.49609375</td></tr><tr><td>08/Mar/2004</td><td>4.5107421875</td></tr><tr><td>08/Mar/2004</td><td>12.544921875</td></tr><tr><td>08/Mar/2004</td><td>4.0888671875</td></tr><tr><td>08/Mar/2004</td><td>7.056640625</td></tr><tr><td>08/Mar/2004</td><td>5.0498046875</td></tr><tr><td>08/Mar/2004</td><td>9.2470703125</td></tr><tr><td>08/Mar/2004</td><td>5.2568359375</td></tr><tr><td>08/Mar/2004</td><td>12.544921875</td></tr><tr><td>08/Mar/2004</td><td>3.6748046875</td></tr><tr><td>08/Mar/2004</td><td>12.5498046875</td></tr><tr><td>08/Mar/2004</td><td>4.357421875</td></tr><tr><td>08/Mar/2004</td><td>58.060546875</td></tr><tr><td>08/Mar/2004</td><td>10.9814453125</td></tr><tr><td>08/Mar/2004</td><td>4.537109375</td></tr><tr><td>08/Mar/2004</td><td>35.556640625</td></tr><tr><td>08/Mar/2004</td><td>7.02734375</td></tr><tr><td>08/Mar/2004</td><td>8.33984375</td></tr><tr><td>08/Mar/2004</td><td>4.1865234375</td></tr><tr><td>08/Mar/2004</td><td>7.2666015625</td></tr><tr><td>08/Mar/2004</td><td>2.9169921875</td></tr><tr><td>08/Mar/2004</td><td>7.0439453125</td></tr><tr><td>08/Mar/2004</td><td>7.783203125</td></tr><tr><td>08/Mar/2004</td><td>7.083984375</td></tr><tr><td>08/Mar/2004</td><td>8.6142578125</td></tr><tr><td>08/Mar/2004</td><td>6.705078125</td></tr><tr><td>08/Mar/2004</td><td>9.09375</td></tr><tr><td>08/Mar/2004</td><td>6.44140625</td></tr><tr><td>08/Mar/2004</td><td>5.3701171875</td></tr><tr><td>08/Mar/2004</td><td>12.544921875</td></tr><tr><td>08/Mar/2004</td><td>3.0078125</td></tr><tr><td>08/Mar/2004</td><td>2.171875</td></tr><tr><td>08/Mar/2004</td><td>3.2216796875</td></tr><tr><td>08/Mar/2004</td><td>2.4228515625</td></tr><tr><td>08/Mar/2004</td><td>1.6279296875</td></tr><tr><td>08/Mar/2004</td><td>2.291015625</td></tr><tr><td>08/Mar/2004</td><td>1.828125</td></tr><tr><td>08/Mar/2004</td><td>1.5478515625</td></tr><tr><td>08/Mar/2004</td><td>2.150390625</td></tr><tr><td>08/Mar/2004</td><td>1.7900390625</td></tr><tr><td>08/Mar/2004</td><td>1.4853515625</td></tr><tr><td>08/Mar/2004</td><td>20.9794921875</td></tr><tr><td>08/Mar/2004</td><td>5.201171875</td></tr><tr><td>08/Mar/2004</td><td>3.939453125</td></tr><tr><td>08/Mar/2004</td><td>5.5576171875</td></tr><tr><td>08/Mar/2004</td><td>12.544921875</td></tr><tr><td>08/Mar/2004</td><td>10.1748046875</td></tr><tr><td>08/Mar/2004</td><td>3.921875</td></tr><tr><td>08/Mar/2004</td><td>10.1748046875</td></tr><tr><td>08/Mar/2004</td><td>4.703125</td></tr><tr><td>08/Mar/2004</td><td>4.0771484375</td></tr><tr><td>08/Mar/2004</td><td>10.1748046875</td></tr><tr><td>08/Mar/2004</td><td>12.544921875</td></tr><tr><td>08/Mar/2004</td><td>10.125</td></tr><tr><td>08/Mar/2004</td><td>8.50390625</td></tr><tr><td>08/Mar/2004</td><td>12.544921875</td></tr><tr><td>08/Mar/2004</td><td>6.404296875</td></tr><tr><td>08/Mar/2004</td><td>10.9990234375</td></tr><tr><td>08/Mar/2004</td><td>2.9169921875</td></tr><tr><td>08/Mar/2004</td><td>7.056640625</td></tr><tr><td>08/Mar/2004</td><td>7.8662109375</td></tr><tr><td>08/Mar/2004</td><td>8.5810546875</td></tr><tr><td>08/Mar/2004</td><td>6.921875</td></tr><tr><td>08/Mar/2004</td><td>6.705078125</td></tr><tr><td>08/Mar/2004</td><td>6.44140625</td></tr><tr><td>08/Mar/2004</td><td>9.09375</td></tr><tr><td>08/Mar/2004</td><td>5.3701171875</td></tr><tr><td>08/Mar/2004</td><td>2.0751953125</td></tr><tr><td>08/Mar/2004</td><td>4.91796875</td></tr><tr><td>08/Mar/2004</td><td>12.544921875</td></tr><tr><td>08/Mar/2004</td><td>12.5498046875</td></tr><tr><td>08/Mar/2004</td><td>12.544921875</td></tr><tr><td>08/Mar/2004</td><td>12.544921875</td></tr><tr><td>08/Mar/2004</td><td>14.306640625</td></tr><tr><td>08/Mar/2004</td><td>3.8564453125</td></tr><tr><td>08/Mar/2004</td><td>10.1728515625</td></tr><tr><td>08/Mar/2004</td><td>4.4296875</td></tr><tr><td>08/Mar/2004</td><td>2.9169921875</td></tr><tr><td>08/Mar/2004</td><td>7.0234375</td></tr><tr><td>08/Mar/2004</td><td>7.8916015625</td></tr><tr><td>08/Mar/2004</td><td>8.8525390625</td></tr><tr><td>08/Mar/2004</td><td>7.037109375</td></tr><tr><td>08/Mar/2004</td><td>9.09375</td></tr><tr><td>08/Mar/2004</td><td>6.705078125</td></tr><tr><td>08/Mar/2004</td><td>6.44140625</td></tr><tr><td>08/Mar/2004</td><td>5.3701171875</td></tr><tr><td>08/Mar/2004</td><td>3.8564453125</td></tr><tr><td>08/Mar/2004</td><td>1.4013671875</td></tr><tr><td>08/Mar/2004</td><td>10.3291015625</td></tr><tr><td>08/Mar/2004</td><td>2.03125</td></tr><tr><td>08/Mar/2004</td><td>1.1337890625</td></tr><tr><td>08/Mar/2004</td><td>3.5439453125</td></tr><tr><td>08/Mar/2004</td><td>8.564453125</td></tr><tr><td>08/Mar/2004</td><td>12.544921875</td></tr><tr><td>08/Mar/2004</td><td>12.6884765625</td></tr><tr><td>08/Mar/2004</td><td>41.2529296875</td></tr><tr><td>08/Mar/2004</td><td>6.3974609375</td></tr><tr><td>08/Mar/2004</td><td>12.5185546875</td></tr><tr><td>08/Mar/2004</td><td>5.9208984375</td></tr><tr><td>08/Mar/2004</td><td>1.091796875</td></tr><tr><td>08/Mar/2004</td><td>2.0400390625</td></tr><tr><td>08/Mar/2004</td><td>8.61328125</td></tr><tr><td>08/Mar/2004</td><td>3.642578125</td></tr><tr><td>08/Mar/2004</td><td>42.8857421875</td></tr><tr><td>08/Mar/2004</td><td>3.0947265625</td></tr><tr><td>08/Mar/2004</td><td>1.052734375</td></tr><tr><td>08/Mar/2004</td><td>2.8017578125</td></tr><tr><td>08/Mar/2004</td><td>2.8857421875</td></tr><tr><td>08/Mar/2004</td><td>3.0224609375</td></tr><tr><td>08/Mar/2004</td><td>2.21875</td></tr><tr><td>08/Mar/2004</td><td>3.2021484375</td></tr><tr><td>08/Mar/2004</td><td>2.2939453125</td></tr><tr><td>08/Mar/2004</td><td>1.6201171875</td></tr><tr><td>08/Mar/2004</td><td>2.482421875</td></tr><tr><td>08/Mar/2004</td><td>1.8818359375</td></tr><tr><td>08/Mar/2004</td><td>1.54296875</td></tr><tr><td>08/Mar/2004</td><td>2.1494140625</td></tr><tr><td>08/Mar/2004</td><td>1.7861328125</td></tr><tr><td>08/Mar/2004</td><td>1.48828125</td></tr><tr><td>08/Mar/2004</td><td>2.810546875</td></tr><tr><td>08/Mar/2004</td><td>10.1484375</td></tr><tr><td>08/Mar/2004</td><td>1.052734375</td></tr><tr><td>08/Mar/2004</td><td>2.8095703125</td></tr><tr><td>08/Mar/2004</td><td>4.2744140625</td></tr><tr><td>08/Mar/2004</td><td>5.111328125</td></tr><tr><td>08/Mar/2004</td><td>11.0693359375</td></tr><tr><td>08/Mar/2004</td><td>3.91015625</td></tr><tr><td>08/Mar/2004</td><td>4.056640625</td></tr><tr><td>08/Mar/2004</td><td>12.515625</td></tr><tr><td>08/Mar/2004</td><td>0.126953125</td></tr><tr><td>08/Mar/2004</td><td>7.876953125</td></tr><tr><td>08/Mar/2004</td><td>3.5322265625</td></tr><tr><td>08/Mar/2004</td><td>4.1142578125</td></tr><tr><td>08/Mar/2004</td><td>4.6201171875</td></tr><tr><td>08/Mar/2004</td><td>4.45703125</td></tr><tr><td>08/Mar/2004</td><td>12.544921875</td></tr><tr><td>08/Mar/2004</td><td>4.3515625</td></tr><tr><td>08/Mar/2004</td><td>12.544921875</td></tr><tr><td>08/Mar/2004</td><td>6.484375</td></tr><tr><td>08/Mar/2004</td><td>43.60546875</td></tr><tr><td>08/Mar/2004</td><td>12.544921875</td></tr><tr><td>08/Mar/2004</td><td>1.515625</td></tr><tr><td>08/Mar/2004</td><td>2.8681640625</td></tr><tr><td>08/Mar/2004</td><td>5.0595703125</td></tr><tr><td>08/Mar/2004</td><td>5.8876953125</td></tr><tr><td>08/Mar/2004</td><td>9.7890625</td></tr><tr><td>08/Mar/2004</td><td>7.3349609375</td></tr><tr><td>08/Mar/2004</td><td>12.544921875</td></tr><tr><td>08/Mar/2004</td><td>12.544921875</td></tr><tr><td>08/Mar/2004</td><td>3.48046875</td></tr><tr><td>08/Mar/2004</td><td>12.544921875</td></tr><tr><td>08/Mar/2004</td><td>6.447265625</td></tr><tr><td>08/Mar/2004</td><td>43.59765625</td></tr><tr><td>08/Mar/2004</td><td>12.544921875</td></tr><tr><td>08/Mar/2004</td><td>12.544921875</td></tr><tr><td>08/Mar/2004</td><td>0.45703125</td></tr><tr><td>08/Mar/2004</td><td>6.0439453125</td></tr><tr><td>08/Mar/2004</td><td>2.01171875</td></tr><tr><td>08/Mar/2004</td><td>6.0146484375</td></tr><tr><td>08/Mar/2004</td><td>12.544921875</td></tr><tr><td>08/Mar/2004</td><td>13.6689453125</td></tr><tr><td>08/Mar/2004</td><td>11.669921875</td></tr><tr><td>08/Mar/2004</td><td>2.0439453125</td></tr><tr><td>08/Mar/2004</td><td>2.0390625</td></tr><tr><td>08/Mar/2004</td><td>10.1484375</td></tr><tr><td>08/Mar/2004</td><td>2.8095703125</td></tr><tr><td>08/Mar/2004</td><td>10.9990234375</td></tr><tr><td>08/Mar/2004</td><td>26.4013671875</td></tr><tr><td>08/Mar/2004</td><td>4.2177734375</td></tr><tr><td>08/Mar/2004</td><td>12.544921875</td></tr><tr><td>08/Mar/2004</td><td>2.3916015625</td></tr><tr><td>08/Mar/2004</td><td>6.7109375</td></tr><tr><td>08/Mar/2004</td><td>2.0859375</td></tr><tr><td>08/Mar/2004</td><td>10.44921875</td></tr><tr><td>08/Mar/2004</td><td>9.1982421875</td></tr><tr><td>08/Mar/2004</td><td>3.548828125</td></tr><tr><td>08/Mar/2004</td><td>99.759765625</td></tr><tr><td>08/Mar/2004</td><td>12.544921875</td></tr><tr><td>08/Mar/2004</td><td>5.658203125</td></tr><tr><td>08/Mar/2004</td><td>9.19140625</td></tr><tr><td>08/Mar/2004</td><td>111.54296875</td></tr><tr><td>08/Mar/2004</td><td>6.162109375</td></tr><tr><td>08/Mar/2004</td><td>14.2490234375</td></tr><tr><td>08/Mar/2004</td><td>3.46484375</td></tr><tr><td>08/Mar/2004</td><td>4.30859375</td></tr><tr><td>08/Mar/2004</td><td>2.8017578125</td></tr><tr><td>08/Mar/2004</td><td>28.244140625</td></tr><tr><td>08/Mar/2004</td><td>3.357421875</td></tr><tr><td>08/Mar/2004</td><td>4.017578125</td></tr><tr><td>08/Mar/2004</td><td>2.8017578125</td></tr><tr><td>08/Mar/2004</td><td>1.052734375</td></tr><tr><td>08/Mar/2004</td><td>0.06640625</td></tr><tr><td>08/Mar/2004</td><td>0.2041015625</td></tr><tr><td>08/Mar/2004</td><td>18.3271484375</td></tr><tr><td>08/Mar/2004</td><td>4.017578125</td></tr><tr><td>08/Mar/2004</td><td>7.4697265625</td></tr><tr><td>08/Mar/2004</td><td>0.2041015625</td></tr><tr><td>08/Mar/2004</td><td>5.9091796875</td></tr><tr><td>08/Mar/2004</td><td>1.974609375</td></tr><tr><td>08/Mar/2004</td><td>0.9228515625</td></tr><tr><td>08/Mar/2004</td><td>2.9775390625</td></tr><tr><td>08/Mar/2004</td><td>7.4697265625</td></tr><tr><td>08/Mar/2004</td><td>10.1748046875</td></tr><tr><td>08/Mar/2004</td><td>2.8095703125</td></tr><tr><td>08/Mar/2004</td><td>4.1328125</td></tr><tr><td>08/Mar/2004</td><td>4.638671875</td></tr><tr><td>08/Mar/2004</td><td>4.4755859375</td></tr><tr><td>08/Mar/2004</td><td>0.2041015625</td></tr><tr><td>08/Mar/2004</td><td>0.0</td></tr><tr><td>08/Mar/2004</td><td>3.0947265625</td></tr><tr><td>08/Mar/2004</td><td>1.052734375</td></tr><tr><td>08/Mar/2004</td><td>2.8857421875</td></tr><tr><td>08/Mar/2004</td><td>2.9775390625</td></tr><tr><td>08/Mar/2004</td><td>2.109375</td></tr><tr><td>08/Mar/2004</td><td>2.330078125</td></tr><tr><td>08/Mar/2004</td><td>3.1943359375</td></tr><tr><td>08/Mar/2004</td><td>1.6474609375</td></tr><tr><td>08/Mar/2004</td><td>2.423828125</td></tr><tr><td>08/Mar/2004</td><td>1.869140625</td></tr><tr><td>08/Mar/2004</td><td>1.5</td></tr><tr><td>08/Mar/2004</td><td>2.197265625</td></tr><tr><td>08/Mar/2004</td><td>1.8388671875</td></tr><tr><td>08/Mar/2004</td><td>1.4580078125</td></tr><tr><td>08/Mar/2004</td><td>10.1484375</td></tr><tr><td>08/Mar/2004</td><td>2.8095703125</td></tr><tr><td>08/Mar/2004</td><td>1.052734375</td></tr><tr><td>08/Mar/2004</td><td>5.111328125</td></tr><tr><td>08/Mar/2004</td><td>3.927734375</td></tr><tr><td>08/Mar/2004</td><td>5.5390625</td></tr><tr><td>08/Mar/2004</td><td>3.966796875</td></tr><tr><td>08/Mar/2004</td><td>3.966796875</td></tr><tr><td>08/Mar/2004</td><td>3.0947265625</td></tr><tr><td>08/Mar/2004</td><td>2.8857421875</td></tr><tr><td>08/Mar/2004</td><td>3.162109375</td></tr><tr><td>08/Mar/2004</td><td>2.9609375</td></tr><tr><td>08/Mar/2004</td><td>2.109375</td></tr><tr><td>08/Mar/2004</td><td>2.3134765625</td></tr><tr><td>08/Mar/2004</td><td>1.6318359375</td></tr><tr><td>08/Mar/2004</td><td>2.4267578125</td></tr><tr><td>08/Mar/2004</td><td>1.4970703125</td></tr><tr><td>08/Mar/2004</td><td>1.861328125</td></tr><tr><td>08/Mar/2004</td><td>2.1982421875</td></tr><tr><td>08/Mar/2004</td><td>1.8310546875</td></tr><tr><td>08/Mar/2004</td><td>1.4482421875</td></tr><tr><td>08/Mar/2004</td><td>7.1953125</td></tr><tr><td>08/Mar/2004</td><td>2.8017578125</td></tr><tr><td>08/Mar/2004</td><td>10.1484375</td></tr><tr><td>08/Mar/2004</td><td>2.8095703125</td></tr><tr><td>08/Mar/2004</td><td>4.4091796875</td></tr><tr><td>08/Mar/2004</td><td>3.91015625</td></tr><tr><td>08/Mar/2004</td><td>2.8017578125</td></tr><tr><td>08/Mar/2004</td><td>3.0947265625</td></tr><tr><td>09/Mar/2004</td><td>10.1748046875</td></tr><tr><td>09/Mar/2004</td><td>2.8095703125</td></tr><tr><td>09/Mar/2004</td><td>1.052734375</td></tr><tr><td>09/Mar/2004</td><td>3.939453125</td></tr><tr><td>09/Mar/2004</td><td>4.7861328125</td></tr><tr><td>09/Mar/2004</td><td>5.5576171875</td></tr><tr><td>09/Mar/2004</td><td>5.4130859375</td></tr><tr><td>09/Mar/2004</td><td>5.1298828125</td></tr><tr><td>09/Mar/2004</td><td>12.5498046875</td></tr><tr><td>09/Mar/2004</td><td>0.126953125</td></tr><tr><td>09/Mar/2004</td><td>4.1328125</td></tr><tr><td>09/Mar/2004</td><td>4.427734375</td></tr><tr><td>09/Mar/2004</td><td>2.8857421875</td></tr><tr><td>09/Mar/2004</td><td>2.99609375</td></tr><tr><td>09/Mar/2004</td><td>2.1357421875</td></tr><tr><td>09/Mar/2004</td><td>3.2001953125</td></tr><tr><td>09/Mar/2004</td><td>2.3232421875</td></tr><tr><td>09/Mar/2004</td><td>1.6474609375</td></tr><tr><td>09/Mar/2004</td><td>2.53125</td></tr><tr><td>09/Mar/2004</td><td>1.9365234375</td></tr><tr><td>09/Mar/2004</td><td>1.5087890625</td></tr><tr><td>09/Mar/2004</td><td>2.169921875</td></tr><tr><td>09/Mar/2004</td><td>1.822265625</td></tr><tr><td>09/Mar/2004</td><td>1.458984375</td></tr><tr><td>09/Mar/2004</td><td>1.052734375</td></tr><tr><td>09/Mar/2004</td><td>0.06640625</td></tr><tr><td>09/Mar/2004</td><td>3.79296875</td></tr><tr><td>09/Mar/2004</td><td>3.79296875</td></tr><tr><td>09/Mar/2004</td><td>10.1748046875</td></tr><tr><td>09/Mar/2004</td><td>2.8095703125</td></tr><tr><td>09/Mar/2004</td><td>3.9853515625</td></tr><tr><td>09/Mar/2004</td><td>3.939453125</td></tr><tr><td>09/Mar/2004</td><td>5.5576171875</td></tr><tr><td>09/Mar/2004</td><td>5.4130859375</td></tr><tr><td>09/Mar/2004</td><td>5.1298828125</td></tr><tr><td>09/Mar/2004</td><td>7.2607421875</td></tr><tr><td>09/Mar/2004</td><td>56.92578125</td></tr><tr><td>09/Mar/2004</td><td>14.826171875</td></tr><tr><td>09/Mar/2004</td><td>7.048828125</td></tr><tr><td>09/Mar/2004</td><td>0.1201171875</td></tr><tr><td>09/Mar/2004</td><td>3.4189453125</td></tr><tr><td>09/Mar/2004</td><td>8.4296875</td></tr><tr><td>09/Mar/2004</td><td>3.0947265625</td></tr><tr><td>09/Mar/2004</td><td>2.24609375</td></tr><tr><td>09/Mar/2004</td><td>3.0947265625</td></tr><tr><td>09/Mar/2004</td><td>2.8857421875</td></tr><tr><td>09/Mar/2004</td><td>2.9560546875</td></tr><tr><td>09/Mar/2004</td><td>2.09765625</td></tr><tr><td>09/Mar/2004</td><td>3.125</td></tr><tr><td>09/Mar/2004</td><td>2.2861328125</td></tr><tr><td>09/Mar/2004</td><td>1.646484375</td></tr><tr><td>09/Mar/2004</td><td>2.474609375</td></tr><tr><td>09/Mar/2004</td><td>1.90234375</td></tr><tr><td>09/Mar/2004</td><td>1.5126953125</td></tr><tr><td>09/Mar/2004</td><td>2.162109375</td></tr><tr><td>09/Mar/2004</td><td>1.8291015625</td></tr><tr><td>09/Mar/2004</td><td>1.46484375</td></tr><tr><td>09/Mar/2004</td><td>2.9169921875</td></tr><tr><td>09/Mar/2004</td><td>6.55078125</td></tr><tr><td>09/Mar/2004</td><td>8.0390625</td></tr><tr><td>09/Mar/2004</td><td>8.6494140625</td></tr><tr><td>09/Mar/2004</td><td>7.0068359375</td></tr><tr><td>09/Mar/2004</td><td>9.1708984375</td></tr><tr><td>09/Mar/2004</td><td>6.759765625</td></tr><tr><td>09/Mar/2004</td><td>6.462890625</td></tr><tr><td>09/Mar/2004</td><td>5.4833984375</td></tr><tr><td>09/Mar/2004</td><td>2.8017578125</td></tr><tr><td>09/Mar/2004</td><td>10.1748046875</td></tr><tr><td>09/Mar/2004</td><td>2.8095703125</td></tr><tr><td>09/Mar/2004</td><td>3.939453125</td></tr><tr><td>09/Mar/2004</td><td>5.5576171875</td></tr><tr><td>09/Mar/2004</td><td>5.4130859375</td></tr><tr><td>09/Mar/2004</td><td>3.0947265625</td></tr><tr><td>09/Mar/2004</td><td>1.052734375</td></tr><tr><td>09/Mar/2004</td><td>10.1748046875</td></tr><tr><td>09/Mar/2004</td><td>2.8095703125</td></tr><tr><td>09/Mar/2004</td><td>1.052734375</td></tr><tr><td>09/Mar/2004</td><td>3.939453125</td></tr><tr><td>09/Mar/2004</td><td>5.5576171875</td></tr><tr><td>09/Mar/2004</td><td>5.4130859375</td></tr><tr><td>09/Mar/2004</td><td>3.0947265625</td></tr><tr><td>09/Mar/2004</td><td>10.1748046875</td></tr><tr><td>09/Mar/2004</td><td>2.8095703125</td></tr><tr><td>09/Mar/2004</td><td>3.939453125</td></tr><tr><td>09/Mar/2004</td><td>5.5576171875</td></tr><tr><td>09/Mar/2004</td><td>4.5556640625</td></tr><tr><td>09/Mar/2004</td><td>3.921875</td></tr><tr><td>09/Mar/2004</td><td>12.5498046875</td></tr><tr><td>09/Mar/2004</td><td>0.126953125</td></tr><tr><td>09/Mar/2004</td><td>4.1328125</td></tr><tr><td>09/Mar/2004</td><td>4.4755859375</td></tr><tr><td>09/Mar/2004</td><td>3.0947265625</td></tr><tr><td>09/Mar/2004</td><td>4.638671875</td></tr><tr><td>09/Mar/2004</td><td>4.017578125</td></tr><tr><td>09/Mar/2004</td><td>3.87890625</td></tr><tr><td>09/Mar/2004</td><td>1.052734375</td></tr><tr><td>09/Mar/2004</td><td>3.435546875</td></tr><tr><td>09/Mar/2004</td><td>10.6796875</td></tr><tr><td>09/Mar/2004</td><td>20.6298828125</td></tr><tr><td>09/Mar/2004</td><td>7.7529296875</td></tr><tr><td>09/Mar/2004</td><td>10.1748046875</td></tr><tr><td>09/Mar/2004</td><td>5.1298828125</td></tr><tr><td>09/Mar/2004</td><td>0.06640625</td></tr><tr><td>09/Mar/2004</td><td>0.2041015625</td></tr><tr><td>09/Mar/2004</td><td>4.017578125</td></tr><tr><td>09/Mar/2004</td><td>2.9169921875</td></tr><tr><td>09/Mar/2004</td><td>8.623046875</td></tr><tr><td>09/Mar/2004</td><td>7.0849609375</td></tr><tr><td>09/Mar/2004</td><td>6.5458984375</td></tr><tr><td>09/Mar/2004</td><td>6.9599609375</td></tr><tr><td>09/Mar/2004</td><td>9.0244140625</td></tr><tr><td>09/Mar/2004</td><td>6.6953125</td></tr><tr><td>09/Mar/2004</td><td>6.462890625</td></tr><tr><td>09/Mar/2004</td><td>5.4833984375</td></tr><tr><td>09/Mar/2004</td><td>2.24609375</td></tr><tr><td>09/Mar/2004</td><td>3.435546875</td></tr><tr><td>09/Mar/2004</td><td>20.6298828125</td></tr><tr><td>09/Mar/2004</td><td>7.7529296875</td></tr><tr><td>09/Mar/2004</td><td>10.6796875</td></tr><tr><td>09/Mar/2004</td><td>3.0947265625</td></tr><tr><td>09/Mar/2004</td><td>2.8017578125</td></tr><tr><td>09/Mar/2004</td><td>6.1240234375</td></tr><tr><td>09/Mar/2004</td><td>1.974609375</td></tr><tr><td>09/Mar/2004</td><td>0.9228515625</td></tr><tr><td>09/Mar/2004</td><td>2.9775390625</td></tr><tr><td>09/Mar/2004</td><td>5.5576171875</td></tr><tr><td>09/Mar/2004</td><td>2.8095703125</td></tr><tr><td>09/Mar/2004</td><td>0.06640625</td></tr><tr><td>09/Mar/2004</td><td>0.2041015625</td></tr><tr><td>09/Mar/2004</td><td>3.0947265625</td></tr><tr><td>09/Mar/2004</td><td>10.1748046875</td></tr><tr><td>09/Mar/2004</td><td>2.8095703125</td></tr><tr><td>09/Mar/2004</td><td>3.9853515625</td></tr><tr><td>09/Mar/2004</td><td>3.939453125</td></tr><tr><td>09/Mar/2004</td><td>5.5576171875</td></tr><tr><td>09/Mar/2004</td><td>5.1298828125</td></tr><tr><td>09/Mar/2004</td><td>0.2939453125</td></tr><tr><td>09/Mar/2004</td><td>6.7314453125</td></tr><tr><td>09/Mar/2004</td><td>6.1240234375</td></tr><tr><td>09/Mar/2004</td><td>3.0947265625</td></tr><tr><td>09/Mar/2004</td><td>0.2939453125</td></tr><tr><td>09/Mar/2004</td><td>6.7314453125</td></tr><tr><td>09/Mar/2004</td><td>1.974609375</td></tr><tr><td>09/Mar/2004</td><td>2.9775390625</td></tr><tr><td>09/Mar/2004</td><td>0.9228515625</td></tr><tr><td>09/Mar/2004</td><td>6.1240234375</td></tr><tr><td>09/Mar/2004</td><td>2.24609375</td></tr><tr><td>09/Mar/2004</td><td>2.8857421875</td></tr><tr><td>09/Mar/2004</td><td>1.052734375</td></tr><tr><td>09/Mar/2004</td><td>2.9697265625</td></tr><tr><td>09/Mar/2004</td><td>1.6552734375</td></tr><tr><td>09/Mar/2004</td><td>2.5166015625</td></tr><tr><td>09/Mar/2004</td><td>3.1279296875</td></tr><tr><td>09/Mar/2004</td><td>1.923828125</td></tr><tr><td>09/Mar/2004</td><td>2.1298828125</td></tr><tr><td>09/Mar/2004</td><td>1.513671875</td></tr><tr><td>09/Mar/2004</td><td>2.259765625</td></tr><tr><td>09/Mar/2004</td><td>1.806640625</td></tr><tr><td>09/Mar/2004</td><td>2.1611328125</td></tr><tr><td>09/Mar/2004</td><td>1.4736328125</td></tr><tr><td>09/Mar/2004</td><td>6.1240234375</td></tr><tr><td>09/Mar/2004</td><td>3.0947265625</td></tr><tr><td>09/Mar/2004</td><td>1.052734375</td></tr><tr><td>09/Mar/2004</td><td>3.904296875</td></tr><tr><td>09/Mar/2004</td><td>2.033203125</td></tr><tr><td>09/Mar/2004</td><td>2.130859375</td></tr><tr><td>09/Mar/2004</td><td>2.130859375</td></tr><tr><td>09/Mar/2004</td><td>19.1376953125</td></tr><tr><td>09/Mar/2004</td><td>2.0537109375</td></tr><tr><td>09/Mar/2004</td><td>6.7314453125</td></tr><tr><td>09/Mar/2004</td><td>6.1240234375</td></tr><tr><td>09/Mar/2004</td><td>0.2041015625</td></tr><tr><td>09/Mar/2004</td><td>0.0</td></tr><tr><td>09/Mar/2004</td><td>0.06640625</td></tr><tr><td>09/Mar/2004</td><td>0.2041015625</td></tr><tr><td>09/Mar/2004</td><td>2.8017578125</td></tr><tr><td>09/Mar/2004</td><td>10.1748046875</td></tr><tr><td>09/Mar/2004</td><td>1.052734375</td></tr><tr><td>09/Mar/2004</td><td>2.8095703125</td></tr><tr><td>09/Mar/2004</td><td>4.5556640625</td></tr><tr><td>09/Mar/2004</td><td>8.4296875</td></tr><tr><td>09/Mar/2004</td><td>6.7109375</td></tr><tr><td>09/Mar/2004</td><td>1.974609375</td></tr><tr><td>09/Mar/2004</td><td>0.9228515625</td></tr><tr><td>09/Mar/2004</td><td>2.9775390625</td></tr><tr><td>09/Mar/2004</td><td>2.03125</td></tr><tr><td>09/Mar/2004</td><td>0.2939453125</td></tr><tr><td>09/Mar/2004</td><td>6.7314453125</td></tr><tr><td>09/Mar/2004</td><td>6.3076171875</td></tr><tr><td>09/Mar/2004</td><td>6.1884765625</td></tr><tr><td>09/Mar/2004</td><td>6.7314453125</td></tr><tr><td>09/Mar/2004</td><td>2.8017578125</td></tr><tr><td>09/Mar/2004</td><td>1.052734375</td></tr><tr><td>09/Mar/2004</td><td>5.5576171875</td></tr><tr><td>09/Mar/2004</td><td>2.8095703125</td></tr><tr><td>09/Mar/2004</td><td>3.939453125</td></tr><tr><td>09/Mar/2004</td><td>5.4130859375</td></tr><tr><td>09/Mar/2004</td><td>18.44921875</td></tr><tr><td>09/Mar/2004</td><td>10.1748046875</td></tr><tr><td>09/Mar/2004</td><td>3.939453125</td></tr><tr><td>09/Mar/2004</td><td>5.4130859375</td></tr><tr><td>09/Mar/2004</td><td>3.0947265625</td></tr><tr><td>09/Mar/2004</td><td>0.06640625</td></tr><tr><td>09/Mar/2004</td><td>0.2041015625</td></tr><tr><td>09/Mar/2004</td><td>0.06640625</td></tr><tr><td>09/Mar/2004</td><td>0.2041015625</td></tr><tr><td>09/Mar/2004</td><td>5.5576171875</td></tr><tr><td>09/Mar/2004</td><td>2.8095703125</td></tr><tr><td>09/Mar/2004</td><td>0.2041015625</td></tr><tr><td>09/Mar/2004</td><td>3.0947265625</td></tr><tr><td>10/Mar/2004</td><td>0.2041015625</td></tr><tr><td>10/Mar/2004</td><td>2.8017578125</td></tr><tr><td>10/Mar/2004</td><td>6.0625</td></tr><tr><td>10/Mar/2004</td><td>1.974609375</td></tr><tr><td>10/Mar/2004</td><td>0.9228515625</td></tr><tr><td>10/Mar/2004</td><td>2.9775390625</td></tr><tr><td>10/Mar/2004</td><td>2.24609375</td></tr><tr><td>10/Mar/2004</td><td>0.06640625</td></tr><tr><td>10/Mar/2004</td><td>2.24609375</td></tr><tr><td>10/Mar/2004</td><td>7.1953125</td></tr><tr><td>10/Mar/2004</td><td>10.1748046875</td></tr><tr><td>10/Mar/2004</td><td>3.939453125</td></tr><tr><td>10/Mar/2004</td><td>5.5576171875</td></tr><tr><td>10/Mar/2004</td><td>5.4130859375</td></tr><tr><td>10/Mar/2004</td><td>56.92578125</td></tr><tr><td>10/Mar/2004</td><td>4.5556640625</td></tr><tr><td>10/Mar/2004</td><td>3.921875</td></tr><tr><td>10/Mar/2004</td><td>3.5439453125</td></tr><tr><td>10/Mar/2004</td><td>4.427734375</td></tr><tr><td>10/Mar/2004</td><td>5.1298828125</td></tr><tr><td>10/Mar/2004</td><td>7.2607421875</td></tr><tr><td>10/Mar/2004</td><td>3.87890625</td></tr><tr><td>10/Mar/2004</td><td>5.275390625</td></tr><tr><td>10/Mar/2004</td><td>5.8291015625</td></tr><tr><td>10/Mar/2004</td><td>0.9228515625</td></tr><tr><td>10/Mar/2004</td><td>1.974609375</td></tr><tr><td>10/Mar/2004</td><td>2.9775390625</td></tr><tr><td>10/Mar/2004</td><td>3.0947265625</td></tr><tr><td>10/Mar/2004</td><td>2.8017578125</td></tr><tr><td>10/Mar/2004</td><td>2.9169921875</td></tr><tr><td>10/Mar/2004</td><td>7.6005859375</td></tr><tr><td>10/Mar/2004</td><td>8.6376953125</td></tr><tr><td>10/Mar/2004</td><td>6.126953125</td></tr><tr><td>10/Mar/2004</td><td>6.9052734375</td></tr><tr><td>10/Mar/2004</td><td>9.109375</td></tr><tr><td>10/Mar/2004</td><td>6.8125</td></tr><tr><td>10/Mar/2004</td><td>6.4638671875</td></tr><tr><td>10/Mar/2004</td><td>5.3876953125</td></tr><tr><td>10/Mar/2004</td><td>2.94921875</td></tr><tr><td>10/Mar/2004</td><td>2.2333984375</td></tr><tr><td>10/Mar/2004</td><td>2.27734375</td></tr><tr><td>10/Mar/2004</td><td>1.6337890625</td></tr><tr><td>10/Mar/2004</td><td>2.5224609375</td></tr><tr><td>10/Mar/2004</td><td>1.9296875</td></tr><tr><td>10/Mar/2004</td><td>3.28515625</td></tr><tr><td>10/Mar/2004</td><td>2.16796875</td></tr><tr><td>10/Mar/2004</td><td>1.5888671875</td></tr><tr><td>10/Mar/2004</td><td>1.7939453125</td></tr></tbody></table>Showing the first 1000 rows.</div>"
      ]
     },
     "metadata": {
      "application/vnd.databricks.v1+output": {
       "addedWidgets": {},
       "aggData": [
        [
         "07/Mar/2004",
         2370.4765625
        ],
        [
         "08/Mar/2004",
         4509.083984375
        ],
        [
         "09/Mar/2004",
         955.4794921875
        ],
        [
         "10/Mar/2004",
         1325.78515625
        ],
        [
         "11/Mar/2004",
         1235.4423828125
        ],
        [
         "12/Mar/2004",
         280.4951171875
        ]
       ],
       "aggError": "",
       "aggOverflow": false,
       "aggSchema": [
        {
         "metadata": "{\"aggRole\":\"groupBy\",\"aggFunc\":null}",
         "name": "_1",
         "type": "\"string\""
        },
        {
         "metadata": "{\"aggRole\":\"agg\",\"aggFunc\":\"sum\"}",
         "name": "_2",
         "type": "\"double\""
        }
       ],
       "aggSeriesLimitReached": false,
       "aggType": "scalar",
       "arguments": {},
       "columnCustomDisplayInfos": {},
       "data": [
        [
         "07/Mar/2004",
         12.544921875
        ],
        [
         "07/Mar/2004",
         4.4169921875
        ],
        [
         "07/Mar/2004",
         6.1435546875
        ],
        [
         "07/Mar/2004",
         7.1796875
        ],
        [
         "07/Mar/2004",
         5.1298828125
        ],
        [
         "07/Mar/2004",
         11.115234375
        ],
        [
         "07/Mar/2004",
         4.80859375
        ],
        [
         "07/Mar/2004",
         12.5498046875
        ],
        [
         "07/Mar/2004",
         12.5498046875
        ],
        [
         "07/Mar/2004",
         3.64453125
        ],
        [
         "07/Mar/2004",
         39.5703125
        ],
        [
         "07/Mar/2004",
         12.5498046875
        ],
        [
         "07/Mar/2004",
         6.2294921875
        ],
        [
         "07/Mar/2004",
         45.2861328125
        ],
        [
         "07/Mar/2004",
         4.04296875
        ],
        [
         "07/Mar/2004",
         3.7626953125
        ],
        [
         "07/Mar/2004",
         3.599609375
        ],
        [
         "07/Mar/2004",
         12.544921875
        ],
        [
         "07/Mar/2004",
         0.06640625
        ],
        [
         "07/Mar/2004",
         5.58984375
        ],
        [
         "07/Mar/2004",
         5.041015625
        ],
        [
         "07/Mar/2004",
         58.2802734375
        ],
        [
         "07/Mar/2004",
         12.5498046875
        ],
        [
         "07/Mar/2004",
         33.5888671875
        ],
        [
         "07/Mar/2004",
         7.0654296875
        ],
        [
         "07/Mar/2004",
         8.3447265625
        ],
        [
         "07/Mar/2004",
         6.3076171875
        ],
        [
         "07/Mar/2004",
         2.8017578125
        ],
        [
         "07/Mar/2004",
         4.18359375
        ],
        [
         "07/Mar/2004",
         11.1328125
        ],
        [
         "07/Mar/2004",
         12.544921875
        ],
        [
         "07/Mar/2004",
         3.5888671875
        ],
        [
         "07/Mar/2004",
         5.6376953125
        ],
        [
         "07/Mar/2004",
         0.06640625
        ],
        [
         "07/Mar/2004",
         3.76953125
        ],
        [
         "07/Mar/2004",
         12.544921875
        ],
        [
         "07/Mar/2004",
         9.091796875
        ],
        [
         "07/Mar/2004",
         0.7890625
        ],
        [
         "07/Mar/2004",
         5.7958984375
        ],
        [
         "07/Mar/2004",
         12.544921875
        ],
        [
         "07/Mar/2004",
         11.0166015625
        ],
        [
         "07/Mar/2004",
         8.599609375
        ],
        [
         "07/Mar/2004",
         12.544921875
        ],
        [
         "07/Mar/2004",
         3.7578125
        ],
        [
         "07/Mar/2004",
         3.9853515625
        ],
        [
         "07/Mar/2004",
         11.0166015625
        ],
        [
         "07/Mar/2004",
         4.3798828125
        ],
        [
         "07/Mar/2004",
         5.111328125
        ],
        [
         "07/Mar/2004",
         3.53125
        ],
        [
         "07/Mar/2004",
         7.5888671875
        ],
        [
         "07/Mar/2004",
         22.791015625
        ],
        [
         "07/Mar/2004",
         12.544921875
        ],
        [
         "07/Mar/2004",
         12.544921875
        ],
        [
         "07/Mar/2004",
         8.61328125
        ],
        [
         "07/Mar/2004",
         6.65625
        ],
        [
         "07/Mar/2004",
         0.2041015625
        ],
        [
         "07/Mar/2004",
         11.048828125
        ],
        [
         "07/Mar/2004",
         12.544921875
        ],
        [
         "07/Mar/2004",
         3.0224609375
        ],
        [
         "07/Mar/2004",
         3.720703125
        ],
        [
         "07/Mar/2004",
         6.78515625
        ],
        [
         "07/Mar/2004",
         12.544921875
        ],
        [
         "07/Mar/2004",
         3.296875
        ],
        [
         "07/Mar/2004",
         3.5
        ],
        [
         "07/Mar/2004",
         4.44140625
        ],
        [
         "07/Mar/2004",
         6.1962890625
        ],
        [
         "07/Mar/2004",
         4.3447265625
        ],
        [
         "07/Mar/2004",
         12.544921875
        ],
        [
         "07/Mar/2004",
         24.8203125
        ],
        [
         "07/Mar/2004",
         4.20703125
        ],
        [
         "07/Mar/2004",
         3.4609375
        ],
        [
         "07/Mar/2004",
         12.544921875
        ],
        [
         "07/Mar/2004",
         11.01953125
        ],
        [
         "07/Mar/2004",
         26.609375
        ],
        [
         "07/Mar/2004",
         12.544921875
        ],
        [
         "07/Mar/2004",
         5.8271484375
        ],
        [
         "07/Mar/2004",
         3.51171875
        ],
        [
         "07/Mar/2004",
         12.544921875
        ],
        [
         "07/Mar/2004",
         135.5361328125
        ],
        [
         "07/Mar/2004",
         3.54296875
        ],
        [
         "07/Mar/2004",
         12.5498046875
        ],
        [
         "07/Mar/2004",
         51.615234375
        ],
        [
         "07/Mar/2004",
         12.5498046875
        ],
        [
         "07/Mar/2004",
         5.998046875
        ],
        [
         "07/Mar/2004",
         111.5634765625
        ],
        [
         "07/Mar/2004",
         12.544921875
        ],
        [
         "07/Mar/2004",
         20.666015625
        ],
        [
         "07/Mar/2004",
         4.41796875
        ],
        [
         "07/Mar/2004",
         11.17578125
        ],
        [
         "07/Mar/2004",
         12.544921875
        ],
        [
         "07/Mar/2004",
         2.8681640625
        ],
        [
         "07/Mar/2004",
         9.091796875
        ],
        [
         "07/Mar/2004",
         12.544921875
        ],
        [
         "07/Mar/2004",
         12.544921875
        ],
        [
         "07/Mar/2004",
         12.544921875
        ],
        [
         "07/Mar/2004",
         11.0791015625
        ],
        [
         "07/Mar/2004",
         3.748046875
        ],
        [
         "07/Mar/2004",
         7.126953125
        ],
        [
         "07/Mar/2004",
         11.001953125
        ],
        [
         "07/Mar/2004",
         45.2861328125
        ],
        [
         "07/Mar/2004",
         3.736328125
        ],
        [
         "07/Mar/2004",
         20.48046875
        ],
        [
         "07/Mar/2004",
         12.544921875
        ],
        [
         "07/Mar/2004",
         7.0751953125
        ],
        [
         "07/Mar/2004",
         0
        ],
        [
         "07/Mar/2004",
         12.544921875
        ],
        [
         "07/Mar/2004",
         12.5498046875
        ],
        [
         "07/Mar/2004",
         0.06640625
        ],
        [
         "07/Mar/2004",
         12.544921875
        ],
        [
         "07/Mar/2004",
         12.544921875
        ],
        [
         "07/Mar/2004",
         9.880859375
        ],
        [
         "07/Mar/2004",
         12.544921875
        ],
        [
         "07/Mar/2004",
         6.580078125
        ],
        [
         "07/Mar/2004",
         7.1396484375
        ],
        [
         "07/Mar/2004",
         16.279296875
        ],
        [
         "07/Mar/2004",
         5.1533203125
        ],
        [
         "07/Mar/2004",
         4.865234375
        ],
        [
         "07/Mar/2004",
         12.544921875
        ],
        [
         "07/Mar/2004",
         6.146484375
        ],
        [
         "07/Mar/2004",
         13.740234375
        ],
        [
         "07/Mar/2004",
         12.544921875
        ],
        [
         "07/Mar/2004",
         11.767578125
        ],
        [
         "07/Mar/2004",
         11.0166015625
        ],
        [
         "07/Mar/2004",
         39.626953125
        ],
        [
         "07/Mar/2004",
         5.708984375
        ],
        [
         "07/Mar/2004",
         0.29296875
        ],
        [
         "07/Mar/2004",
         1.052734375
        ],
        [
         "07/Mar/2004",
         0.763671875
        ],
        [
         "07/Mar/2004",
         10.1748046875
        ],
        [
         "07/Mar/2004",
         2.8095703125
        ],
        [
         "07/Mar/2004",
         6.5400390625
        ],
        [
         "07/Mar/2004",
         4.7861328125
        ],
        [
         "07/Mar/2004",
         12.544921875
        ],
        [
         "07/Mar/2004",
         6.2490234375
        ],
        [
         "07/Mar/2004",
         7.2880859375
        ],
        [
         "07/Mar/2004",
         12.544921875
        ],
        [
         "07/Mar/2004",
         25.9189453125
        ],
        [
         "07/Mar/2004",
         2.24609375
        ],
        [
         "07/Mar/2004",
         12.544921875
        ],
        [
         "07/Mar/2004",
         6.0107421875
        ],
        [
         "07/Mar/2004",
         15.251953125
        ],
        [
         "07/Mar/2004",
         12.544921875
        ],
        [
         "07/Mar/2004",
         54.552734375
        ],
        [
         "07/Mar/2004",
         99.0673828125
        ],
        [
         "07/Mar/2004",
         4.9365234375
        ],
        [
         "07/Mar/2004",
         6.369140625
        ],
        [
         "07/Mar/2004",
         12.544921875
        ],
        [
         "07/Mar/2004",
         3.5322265625
        ],
        [
         "07/Mar/2004",
         12.544921875
        ],
        [
         "07/Mar/2004",
         12.544921875
        ],
        [
         "07/Mar/2004",
         4.263671875
        ],
        [
         "07/Mar/2004",
         12.544921875
        ],
        [
         "07/Mar/2004",
         6.1962890625
        ],
        [
         "07/Mar/2004",
         9.3388671875
        ],
        [
         "07/Mar/2004",
         12.544921875
        ],
        [
         "07/Mar/2004",
         4.5029296875
        ],
        [
         "07/Mar/2004",
         3.302734375
        ],
        [
         "07/Mar/2004",
         1.974609375
        ],
        [
         "07/Mar/2004",
         0.9228515625
        ],
        [
         "07/Mar/2004",
         2.9775390625
        ],
        [
         "07/Mar/2004",
         3.4501953125
        ],
        [
         "07/Mar/2004",
         13.6455078125
        ],
        [
         "07/Mar/2004",
         16.9541015625
        ],
        [
         "07/Mar/2004",
         12.5498046875
        ],
        [
         "07/Mar/2004",
         5.2109375
        ],
        [
         "07/Mar/2004",
         4.26171875
        ],
        [
         "07/Mar/2004",
         12.544921875
        ],
        [
         "07/Mar/2004",
         8.9189453125
        ],
        [
         "07/Mar/2004",
         5.8486328125
        ],
        [
         "07/Mar/2004",
         12.5498046875
        ],
        [
         "07/Mar/2004",
         5.01953125
        ],
        [
         "07/Mar/2004",
         6.578125
        ],
        [
         "07/Mar/2004",
         3.7626953125
        ],
        [
         "07/Mar/2004",
         3.6103515625
        ],
        [
         "07/Mar/2004",
         18.3134765625
        ],
        [
         "07/Mar/2004",
         3.677734375
        ],
        [
         "07/Mar/2004",
         14.15234375
        ],
        [
         "07/Mar/2004",
         20.4892578125
        ],
        [
         "07/Mar/2004",
         9.30078125
        ],
        [
         "07/Mar/2004",
         16.4580078125
        ],
        [
         "07/Mar/2004",
         14.0966796875
        ],
        [
         "07/Mar/2004",
         5.7529296875
        ],
        [
         "07/Mar/2004",
         19.560546875
        ],
        [
         "07/Mar/2004",
         105.626953125
        ],
        [
         "07/Mar/2004",
         12.5498046875
        ],
        [
         "07/Mar/2004",
         5.0859375
        ],
        [
         "07/Mar/2004",
         0.06640625
        ],
        [
         "07/Mar/2004",
         0.2041015625
        ],
        [
         "07/Mar/2004",
         6.45703125
        ],
        [
         "07/Mar/2004",
         12.544921875
        ],
        [
         "07/Mar/2004",
         5.46484375
        ],
        [
         "07/Mar/2004",
         3.7626953125
        ],
        [
         "07/Mar/2004",
         3.5439453125
        ],
        [
         "07/Mar/2004",
         4.552734375
        ],
        [
         "07/Mar/2004",
         12.5498046875
        ],
        [
         "08/Mar/2004",
         3.0947265625
        ],
        [
         "08/Mar/2004",
         1.052734375
        ],
        [
         "08/Mar/2004",
         2.810546875
        ],
        [
         "08/Mar/2004",
         4.126953125
        ],
        [
         "08/Mar/2004",
         12.544921875
        ],
        [
         "08/Mar/2004",
         0.2041015625
        ],
        [
         "08/Mar/2004",
         1.6884765625
        ],
        [
         "08/Mar/2004",
         6.8837890625
        ],
        [
         "08/Mar/2004",
         12.4384765625
        ],
        [
         "08/Mar/2004",
         22.177734375
        ],
        [
         "08/Mar/2004",
         3.673828125
        ],
        [
         "08/Mar/2004",
         17.3408203125
        ],
        [
         "08/Mar/2004",
         12.544921875
        ],
        [
         "08/Mar/2004",
         9.0419921875
        ],
        [
         "08/Mar/2004",
         6.404296875
        ],
        [
         "08/Mar/2004",
         12.544921875
        ],
        [
         "08/Mar/2004",
         19.8984375
        ],
        [
         "08/Mar/2004",
         2.099609375
        ],
        [
         "08/Mar/2004",
         1.5126953125
        ],
        [
         "08/Mar/2004",
         6.1015625
        ],
        [
         "08/Mar/2004",
         7.056640625
        ],
        [
         "08/Mar/2004",
         3.9169921875
        ],
        [
         "08/Mar/2004",
         4.6123046875
        ],
        [
         "08/Mar/2004",
         4.6103515625
        ],
        [
         "08/Mar/2004",
         12.544921875
        ],
        [
         "08/Mar/2004",
         0.2041015625
        ],
        [
         "08/Mar/2004",
         19.955078125
        ],
        [
         "08/Mar/2004",
         4.2763671875
        ],
        [
         "08/Mar/2004",
         17.4990234375
        ],
        [
         "08/Mar/2004",
         12.544921875
        ],
        [
         "08/Mar/2004",
         25.677734375
        ],
        [
         "08/Mar/2004",
         8.111328125
        ],
        [
         "08/Mar/2004",
         11.0751953125
        ],
        [
         "08/Mar/2004",
         1.4951171875
        ],
        [
         "08/Mar/2004",
         1.5068359375
        ],
        [
         "08/Mar/2004",
         12.544921875
        ],
        [
         "08/Mar/2004",
         13.6728515625
        ],
        [
         "08/Mar/2004",
         98.9052734375
        ],
        [
         "08/Mar/2004",
         12.544921875
        ],
        [
         "08/Mar/2004",
         9.123046875
        ],
        [
         "08/Mar/2004",
         5.1201171875
        ],
        [
         "08/Mar/2004",
         12.544921875
        ],
        [
         "08/Mar/2004",
         6.048828125
        ],
        [
         "08/Mar/2004",
         5.9091796875
        ],
        [
         "08/Mar/2004",
         2.01171875
        ],
        [
         "08/Mar/2004",
         6.1494140625
        ],
        [
         "08/Mar/2004",
         5.958984375
        ],
        [
         "08/Mar/2004",
         5.8828125
        ],
        [
         "08/Mar/2004",
         4.36328125
        ],
        [
         "08/Mar/2004",
         12.544921875
        ],
        [
         "08/Mar/2004",
         37.67578125
        ],
        [
         "08/Mar/2004",
         0.2041015625
        ],
        [
         "08/Mar/2004",
         4.751953125
        ],
        [
         "08/Mar/2004",
         20.48046875
        ],
        [
         "08/Mar/2004",
         6.38671875
        ],
        [
         "08/Mar/2004",
         24.5341796875
        ],
        [
         "08/Mar/2004",
         4.2119140625
        ],
        [
         "08/Mar/2004",
         9.5400390625
        ],
        [
         "08/Mar/2004",
         6.1240234375
        ],
        [
         "08/Mar/2004",
         99.9990234375
        ],
        [
         "08/Mar/2004",
         12.5498046875
        ],
        [
         "08/Mar/2004",
         6.7314453125
        ],
        [
         "08/Mar/2004",
         0.2041015625
        ],
        [
         "08/Mar/2004",
         10.1484375
        ],
        [
         "08/Mar/2004",
         2.8095703125
        ],
        [
         "08/Mar/2004",
         4.0751953125
        ],
        [
         "08/Mar/2004",
         3.927734375
        ],
        [
         "08/Mar/2004",
         12.544921875
        ],
        [
         "08/Mar/2004",
         70.2548828125
        ],
        [
         "08/Mar/2004",
         6.03515625
        ],
        [
         "08/Mar/2004",
         3.486328125
        ],
        [
         "08/Mar/2004",
         15.38671875
        ],
        [
         "08/Mar/2004",
         6.1826171875
        ],
        [
         "08/Mar/2004",
         4.9931640625
        ],
        [
         "08/Mar/2004",
         11.09765625
        ],
        [
         "08/Mar/2004",
         7.81640625
        ],
        [
         "08/Mar/2004",
         3.435546875
        ],
        [
         "08/Mar/2004",
         1.4921875
        ],
        [
         "08/Mar/2004",
         4.6982421875
        ],
        [
         "08/Mar/2004",
         20.240234375
        ],
        [
         "08/Mar/2004",
         5.1533203125
        ],
        [
         "08/Mar/2004",
         2.8017578125
        ],
        [
         "08/Mar/2004",
         7.4697265625
        ],
        [
         "08/Mar/2004",
         12.544921875
        ],
        [
         "08/Mar/2004",
         12.544921875
        ],
        [
         "08/Mar/2004",
         5.2939453125
        ],
        [
         "08/Mar/2004",
         4.6083984375
        ],
        [
         "08/Mar/2004",
         12.544921875
        ],
        [
         "08/Mar/2004",
         0.06640625
        ],
        [
         "08/Mar/2004",
         0.2041015625
        ],
        [
         "08/Mar/2004",
         12.544921875
        ],
        [
         "08/Mar/2004",
         10.013671875
        ],
        [
         "08/Mar/2004",
         3.6513671875
        ],
        [
         "08/Mar/2004",
         22.2431640625
        ],
        [
         "08/Mar/2004",
         18.4833984375
        ],
        [
         "08/Mar/2004",
         12.544921875
        ],
        [
         "08/Mar/2004",
         12.544921875
        ],
        [
         "08/Mar/2004",
         5.5390625
        ],
        [
         "08/Mar/2004",
         10.1484375
        ],
        [
         "08/Mar/2004",
         3.8671875
        ],
        [
         "08/Mar/2004",
         4.7958984375
        ],
        [
         "08/Mar/2004",
         4.4091796875
        ],
        [
         "08/Mar/2004",
         4.1142578125
        ],
        [
         "08/Mar/2004",
         3.91015625
        ],
        [
         "08/Mar/2004",
         4.056640625
        ],
        [
         "08/Mar/2004",
         4.783203125
        ],
        [
         "08/Mar/2004",
         3.5322265625
        ],
        [
         "08/Mar/2004",
         4.537109375
        ],
        [
         "08/Mar/2004",
         56.8056640625
        ],
        [
         "08/Mar/2004",
         12.515625
        ],
        [
         "08/Mar/2004",
         0.126953125
        ],
        [
         "08/Mar/2004",
         2.0703125
        ],
        [
         "08/Mar/2004",
         12.544921875
        ],
        [
         "08/Mar/2004",
         9.26953125
        ],
        [
         "08/Mar/2004",
         6.0869140625
        ],
        [
         "08/Mar/2004",
         12.544921875
        ],
        [
         "08/Mar/2004",
         12.544921875
        ],
        [
         "08/Mar/2004",
         5.2021484375
        ],
        [
         "08/Mar/2004",
         10.1748046875
        ],
        [
         "08/Mar/2004",
         2.8095703125
        ],
        [
         "08/Mar/2004",
         1.052734375
        ],
        [
         "08/Mar/2004",
         10.1748046875
        ],
        [
         "08/Mar/2004",
         3.939453125
        ],
        [
         "08/Mar/2004",
         5.5576171875
        ],
        [
         "08/Mar/2004",
         4.134765625
        ],
        [
         "08/Mar/2004",
         10.1484375
        ],
        [
         "08/Mar/2004",
         2.8095703125
        ],
        [
         "08/Mar/2004",
         43.90625
        ],
        [
         "08/Mar/2004",
         1.5126953125
        ],
        [
         "08/Mar/2004",
         2.8017578125
        ],
        [
         "08/Mar/2004",
         1.052734375
        ],
        [
         "08/Mar/2004",
         12.544921875
        ],
        [
         "08/Mar/2004",
         5.4130859375
        ],
        [
         "08/Mar/2004",
         3.0947265625
        ],
        [
         "08/Mar/2004",
         12.544921875
        ],
        [
         "08/Mar/2004",
         7.2607421875
        ],
        [
         "08/Mar/2004",
         3.6123046875
        ],
        [
         "08/Mar/2004",
         2.31640625
        ],
        [
         "08/Mar/2004",
         12.5498046875
        ],
        [
         "08/Mar/2004",
         0.126953125
        ],
        [
         "08/Mar/2004",
         5.1298828125
        ],
        [
         "08/Mar/2004",
         3.48046875
        ],
        [
         "08/Mar/2004",
         12.544921875
        ],
        [
         "08/Mar/2004",
         4.5068359375
        ],
        [
         "08/Mar/2004",
         4.7158203125
        ],
        [
         "08/Mar/2004",
         12.5498046875
        ],
        [
         "08/Mar/2004",
         4.1328125
        ],
        [
         "08/Mar/2004",
         0.06640625
        ],
        [
         "08/Mar/2004",
         4.2666015625
        ],
        [
         "08/Mar/2004",
         12.794921875
        ],
        [
         "08/Mar/2004",
         11.8291015625
        ],
        [
         "08/Mar/2004",
         12.5498046875
        ],
        [
         "08/Mar/2004",
         4.28515625
        ],
        [
         "08/Mar/2004",
         12.5498046875
        ],
        [
         "08/Mar/2004",
         2.09375
        ],
        [
         "08/Mar/2004",
         111.4912109375
        ],
        [
         "08/Mar/2004",
         2.6533203125
        ],
        [
         "08/Mar/2004",
         12.544921875
        ],
        [
         "08/Mar/2004",
         12.32421875
        ],
        [
         "08/Mar/2004",
         5.2626953125
        ],
        [
         "08/Mar/2004",
         1.1484375
        ],
        [
         "08/Mar/2004",
         20.0078125
        ],
        [
         "08/Mar/2004",
         12.544921875
        ],
        [
         "08/Mar/2004",
         10.1748046875
        ],
        [
         "08/Mar/2004",
         2.8095703125
        ],
        [
         "08/Mar/2004",
         12.544921875
        ],
        [
         "08/Mar/2004",
         5.5771484375
        ],
        [
         "08/Mar/2004",
         11.50390625
        ],
        [
         "08/Mar/2004",
         10.1748046875
        ],
        [
         "08/Mar/2004",
         3.8720703125
        ],
        [
         "08/Mar/2004",
         12.544921875
        ],
        [
         "08/Mar/2004",
         3.9853515625
        ],
        [
         "08/Mar/2004",
         8.1171875
        ],
        [
         "08/Mar/2004",
         3.685546875
        ],
        [
         "08/Mar/2004",
         12.5498046875
        ],
        [
         "08/Mar/2004",
         40.462890625
        ],
        [
         "08/Mar/2004",
         3.66015625
        ],
        [
         "08/Mar/2004",
         12.544921875
        ],
        [
         "08/Mar/2004",
         6.2275390625
        ],
        [
         "08/Mar/2004",
         2.8017578125
        ],
        [
         "08/Mar/2004",
         5.912109375
        ],
        [
         "08/Mar/2004",
         0.27734375
        ],
        [
         "08/Mar/2004",
         7.1953125
        ],
        [
         "08/Mar/2004",
         0.27734375
        ],
        [
         "08/Mar/2004",
         2.0234375
        ],
        [
         "08/Mar/2004",
         5.908203125
        ],
        [
         "08/Mar/2004",
         12.544921875
        ],
        [
         "08/Mar/2004",
         7.0380859375
        ],
        [
         "08/Mar/2004",
         12.544921875
        ],
        [
         "08/Mar/2004",
         3.9765625
        ],
        [
         "08/Mar/2004",
         41.2939453125
        ],
        [
         "08/Mar/2004",
         12.544921875
        ],
        [
         "08/Mar/2004",
         5.9189453125
        ],
        [
         "08/Mar/2004",
         7.7099609375
        ],
        [
         "08/Mar/2004",
         3.435546875
        ],
        [
         "08/Mar/2004",
         20.6298828125
        ],
        [
         "08/Mar/2004",
         10.6796875
        ],
        [
         "08/Mar/2004",
         7.7529296875
        ],
        [
         "08/Mar/2004",
         12.544921875
        ],
        [
         "08/Mar/2004",
         4.0654296875
        ],
        [
         "08/Mar/2004",
         7.1953125
        ],
        [
         "08/Mar/2004",
         7.1953125
        ],
        [
         "08/Mar/2004",
         5.0595703125
        ],
        [
         "08/Mar/2004",
         12.544921875
        ],
        [
         "08/Mar/2004",
         12.544921875
        ],
        [
         "08/Mar/2004",
         44.0029296875
        ],
        [
         "08/Mar/2004",
         3.0302734375
        ],
        [
         "08/Mar/2004",
         3.0947265625
        ],
        [
         "08/Mar/2004",
         1.052734375
        ],
        [
         "08/Mar/2004",
         3.4912109375
        ],
        [
         "08/Mar/2004",
         4.11328125
        ],
        [
         "08/Mar/2004",
         3.0947265625
        ],
        [
         "08/Mar/2004",
         10.1748046875
        ],
        [
         "08/Mar/2004",
         2.8095703125
        ],
        [
         "08/Mar/2004",
         4.3408203125
        ],
        [
         "08/Mar/2004",
         3.939453125
        ],
        [
         "08/Mar/2004",
         5.5576171875
        ],
        [
         "08/Mar/2004",
         7.14453125
        ],
        [
         "08/Mar/2004",
         3.6416015625
        ],
        [
         "08/Mar/2004",
         3.0947265625
        ],
        [
         "08/Mar/2004",
         5.4130859375
        ],
        [
         "08/Mar/2004",
         5.1298828125
        ],
        [
         "08/Mar/2004",
         10.1748046875
        ],
        [
         "08/Mar/2004",
         7.2607421875
        ],
        [
         "08/Mar/2004",
         3.921875
        ],
        [
         "08/Mar/2004",
         4.0751953125
        ],
        [
         "08/Mar/2004",
         3.5439453125
        ],
        [
         "08/Mar/2004",
         8.61328125
        ],
        [
         "08/Mar/2004",
         3.87890625
        ],
        [
         "08/Mar/2004",
         5.275390625
        ],
        [
         "08/Mar/2004",
         7.1953125
        ],
        [
         "08/Mar/2004",
         4.85546875
        ],
        [
         "08/Mar/2004",
         5.1064453125
        ],
        [
         "08/Mar/2004",
         3.939453125
        ],
        [
         "08/Mar/2004",
         5.5576171875
        ],
        [
         "08/Mar/2004",
         12.544921875
        ],
        [
         "08/Mar/2004",
         3.0947265625
        ],
        [
         "08/Mar/2004",
         7.4697265625
        ],
        [
         "08/Mar/2004",
         16.353515625
        ],
        [
         "08/Mar/2004",
         14.1455078125
        ],
        [
         "08/Mar/2004",
         1.521484375
        ],
        [
         "08/Mar/2004",
         3.0947265625
        ],
        [
         "08/Mar/2004",
         10.1748046875
        ],
        [
         "08/Mar/2004",
         2.8095703125
        ],
        [
         "08/Mar/2004",
         2.9169921875
        ],
        [
         "08/Mar/2004",
         7.154296875
        ],
        [
         "08/Mar/2004",
         7.7412109375
        ],
        [
         "08/Mar/2004",
         7.013671875
        ],
        [
         "08/Mar/2004",
         8.658203125
        ],
        [
         "08/Mar/2004",
         9.0888671875
        ],
        [
         "08/Mar/2004",
         6.6455078125
        ],
        [
         "08/Mar/2004",
         6.44140625
        ],
        [
         "08/Mar/2004",
         5.3701171875
        ],
        [
         "08/Mar/2004",
         6.5400390625
        ],
        [
         "08/Mar/2004",
         2.8857421875
        ],
        [
         "08/Mar/2004",
         12.544921875
        ],
        [
         "08/Mar/2004",
         1.53515625
        ],
        [
         "08/Mar/2004",
         8.576171875
        ],
        [
         "08/Mar/2004",
         3.0947265625
        ],
        [
         "08/Mar/2004",
         2.8857421875
        ],
        [
         "08/Mar/2004",
         2.96875
        ],
        [
         "08/Mar/2004",
         2.2861328125
        ],
        [
         "08/Mar/2004",
         2.2177734375
        ],
        [
         "08/Mar/2004",
         3.224609375
        ],
        [
         "08/Mar/2004",
         1.6240234375
        ],
        [
         "08/Mar/2004",
         2.4619140625
        ],
        [
         "08/Mar/2004",
         1.873046875
        ],
        [
         "08/Mar/2004",
         1.54296875
        ],
        [
         "08/Mar/2004",
         2.150390625
        ],
        [
         "08/Mar/2004",
         1.779296875
        ],
        [
         "08/Mar/2004",
         1.490234375
        ],
        [
         "08/Mar/2004",
         2.96875
        ],
        [
         "08/Mar/2004",
         2.2177734375
        ],
        [
         "08/Mar/2004",
         2.2861328125
        ],
        [
         "08/Mar/2004",
         3.224609375
        ],
        [
         "08/Mar/2004",
         1.54296875
        ],
        [
         "08/Mar/2004",
         1.873046875
        ],
        [
         "08/Mar/2004",
         1.6240234375
        ],
        [
         "08/Mar/2004",
         2.150390625
        ],
        [
         "08/Mar/2004",
         2.4619140625
        ],
        [
         "08/Mar/2004",
         1.779296875
        ],
        [
         "08/Mar/2004",
         1.490234375
        ],
        [
         "08/Mar/2004",
         3.8876953125
        ],
        [
         "08/Mar/2004",
         11.7998046875
        ],
        [
         "08/Mar/2004",
         0.06640625
        ],
        [
         "08/Mar/2004",
         0.2041015625
        ],
        [
         "08/Mar/2004",
         10.1748046875
        ],
        [
         "08/Mar/2004",
         1.052734375
        ],
        [
         "08/Mar/2004",
         2.8095703125
        ],
        [
         "08/Mar/2004",
         9.1982421875
        ],
        [
         "08/Mar/2004",
         5.7939453125
        ],
        [
         "08/Mar/2004",
         3.48046875
        ],
        [
         "08/Mar/2004",
         0.2041015625
        ],
        [
         "08/Mar/2004",
         42.1044921875
        ],
        [
         "08/Mar/2004",
         12.544921875
        ],
        [
         "08/Mar/2004",
         4.49609375
        ],
        [
         "08/Mar/2004",
         4.5107421875
        ],
        [
         "08/Mar/2004",
         12.544921875
        ],
        [
         "08/Mar/2004",
         4.0888671875
        ],
        [
         "08/Mar/2004",
         7.056640625
        ],
        [
         "08/Mar/2004",
         5.0498046875
        ],
        [
         "08/Mar/2004",
         9.2470703125
        ],
        [
         "08/Mar/2004",
         5.2568359375
        ],
        [
         "08/Mar/2004",
         12.544921875
        ],
        [
         "08/Mar/2004",
         3.6748046875
        ],
        [
         "08/Mar/2004",
         12.5498046875
        ],
        [
         "08/Mar/2004",
         4.357421875
        ],
        [
         "08/Mar/2004",
         58.060546875
        ],
        [
         "08/Mar/2004",
         10.9814453125
        ],
        [
         "08/Mar/2004",
         4.537109375
        ],
        [
         "08/Mar/2004",
         35.556640625
        ],
        [
         "08/Mar/2004",
         7.02734375
        ],
        [
         "08/Mar/2004",
         8.33984375
        ],
        [
         "08/Mar/2004",
         4.1865234375
        ],
        [
         "08/Mar/2004",
         7.2666015625
        ],
        [
         "08/Mar/2004",
         2.9169921875
        ],
        [
         "08/Mar/2004",
         7.0439453125
        ],
        [
         "08/Mar/2004",
         7.783203125
        ],
        [
         "08/Mar/2004",
         7.083984375
        ],
        [
         "08/Mar/2004",
         8.6142578125
        ],
        [
         "08/Mar/2004",
         6.705078125
        ],
        [
         "08/Mar/2004",
         9.09375
        ],
        [
         "08/Mar/2004",
         6.44140625
        ],
        [
         "08/Mar/2004",
         5.3701171875
        ],
        [
         "08/Mar/2004",
         12.544921875
        ],
        [
         "08/Mar/2004",
         3.0078125
        ],
        [
         "08/Mar/2004",
         2.171875
        ],
        [
         "08/Mar/2004",
         3.2216796875
        ],
        [
         "08/Mar/2004",
         2.4228515625
        ],
        [
         "08/Mar/2004",
         1.6279296875
        ],
        [
         "08/Mar/2004",
         2.291015625
        ],
        [
         "08/Mar/2004",
         1.828125
        ],
        [
         "08/Mar/2004",
         1.5478515625
        ],
        [
         "08/Mar/2004",
         2.150390625
        ],
        [
         "08/Mar/2004",
         1.7900390625
        ],
        [
         "08/Mar/2004",
         1.4853515625
        ],
        [
         "08/Mar/2004",
         20.9794921875
        ],
        [
         "08/Mar/2004",
         5.201171875
        ],
        [
         "08/Mar/2004",
         3.939453125
        ],
        [
         "08/Mar/2004",
         5.5576171875
        ],
        [
         "08/Mar/2004",
         12.544921875
        ],
        [
         "08/Mar/2004",
         10.1748046875
        ],
        [
         "08/Mar/2004",
         3.921875
        ],
        [
         "08/Mar/2004",
         10.1748046875
        ],
        [
         "08/Mar/2004",
         4.703125
        ],
        [
         "08/Mar/2004",
         4.0771484375
        ],
        [
         "08/Mar/2004",
         10.1748046875
        ],
        [
         "08/Mar/2004",
         12.544921875
        ],
        [
         "08/Mar/2004",
         10.125
        ],
        [
         "08/Mar/2004",
         8.50390625
        ],
        [
         "08/Mar/2004",
         12.544921875
        ],
        [
         "08/Mar/2004",
         6.404296875
        ],
        [
         "08/Mar/2004",
         10.9990234375
        ],
        [
         "08/Mar/2004",
         2.9169921875
        ],
        [
         "08/Mar/2004",
         7.056640625
        ],
        [
         "08/Mar/2004",
         7.8662109375
        ],
        [
         "08/Mar/2004",
         8.5810546875
        ],
        [
         "08/Mar/2004",
         6.921875
        ],
        [
         "08/Mar/2004",
         6.705078125
        ],
        [
         "08/Mar/2004",
         6.44140625
        ],
        [
         "08/Mar/2004",
         9.09375
        ],
        [
         "08/Mar/2004",
         5.3701171875
        ],
        [
         "08/Mar/2004",
         2.0751953125
        ],
        [
         "08/Mar/2004",
         4.91796875
        ],
        [
         "08/Mar/2004",
         12.544921875
        ],
        [
         "08/Mar/2004",
         12.5498046875
        ],
        [
         "08/Mar/2004",
         12.544921875
        ],
        [
         "08/Mar/2004",
         12.544921875
        ],
        [
         "08/Mar/2004",
         14.306640625
        ],
        [
         "08/Mar/2004",
         3.8564453125
        ],
        [
         "08/Mar/2004",
         10.1728515625
        ],
        [
         "08/Mar/2004",
         4.4296875
        ],
        [
         "08/Mar/2004",
         2.9169921875
        ],
        [
         "08/Mar/2004",
         7.0234375
        ],
        [
         "08/Mar/2004",
         7.8916015625
        ],
        [
         "08/Mar/2004",
         8.8525390625
        ],
        [
         "08/Mar/2004",
         7.037109375
        ],
        [
         "08/Mar/2004",
         9.09375
        ],
        [
         "08/Mar/2004",
         6.705078125
        ],
        [
         "08/Mar/2004",
         6.44140625
        ],
        [
         "08/Mar/2004",
         5.3701171875
        ],
        [
         "08/Mar/2004",
         3.8564453125
        ],
        [
         "08/Mar/2004",
         1.4013671875
        ],
        [
         "08/Mar/2004",
         10.3291015625
        ],
        [
         "08/Mar/2004",
         2.03125
        ],
        [
         "08/Mar/2004",
         1.1337890625
        ],
        [
         "08/Mar/2004",
         3.5439453125
        ],
        [
         "08/Mar/2004",
         8.564453125
        ],
        [
         "08/Mar/2004",
         12.544921875
        ],
        [
         "08/Mar/2004",
         12.6884765625
        ],
        [
         "08/Mar/2004",
         41.2529296875
        ],
        [
         "08/Mar/2004",
         6.3974609375
        ],
        [
         "08/Mar/2004",
         12.5185546875
        ],
        [
         "08/Mar/2004",
         5.9208984375
        ],
        [
         "08/Mar/2004",
         1.091796875
        ],
        [
         "08/Mar/2004",
         2.0400390625
        ],
        [
         "08/Mar/2004",
         8.61328125
        ],
        [
         "08/Mar/2004",
         3.642578125
        ],
        [
         "08/Mar/2004",
         42.8857421875
        ],
        [
         "08/Mar/2004",
         3.0947265625
        ],
        [
         "08/Mar/2004",
         1.052734375
        ],
        [
         "08/Mar/2004",
         2.8017578125
        ],
        [
         "08/Mar/2004",
         2.8857421875
        ],
        [
         "08/Mar/2004",
         3.0224609375
        ],
        [
         "08/Mar/2004",
         2.21875
        ],
        [
         "08/Mar/2004",
         3.2021484375
        ],
        [
         "08/Mar/2004",
         2.2939453125
        ],
        [
         "08/Mar/2004",
         1.6201171875
        ],
        [
         "08/Mar/2004",
         2.482421875
        ],
        [
         "08/Mar/2004",
         1.8818359375
        ],
        [
         "08/Mar/2004",
         1.54296875
        ],
        [
         "08/Mar/2004",
         2.1494140625
        ],
        [
         "08/Mar/2004",
         1.7861328125
        ],
        [
         "08/Mar/2004",
         1.48828125
        ],
        [
         "08/Mar/2004",
         2.810546875
        ],
        [
         "08/Mar/2004",
         10.1484375
        ],
        [
         "08/Mar/2004",
         1.052734375
        ],
        [
         "08/Mar/2004",
         2.8095703125
        ],
        [
         "08/Mar/2004",
         4.2744140625
        ],
        [
         "08/Mar/2004",
         5.111328125
        ],
        [
         "08/Mar/2004",
         11.0693359375
        ],
        [
         "08/Mar/2004",
         3.91015625
        ],
        [
         "08/Mar/2004",
         4.056640625
        ],
        [
         "08/Mar/2004",
         12.515625
        ],
        [
         "08/Mar/2004",
         0.126953125
        ],
        [
         "08/Mar/2004",
         7.876953125
        ],
        [
         "08/Mar/2004",
         3.5322265625
        ],
        [
         "08/Mar/2004",
         4.1142578125
        ],
        [
         "08/Mar/2004",
         4.6201171875
        ],
        [
         "08/Mar/2004",
         4.45703125
        ],
        [
         "08/Mar/2004",
         12.544921875
        ],
        [
         "08/Mar/2004",
         4.3515625
        ],
        [
         "08/Mar/2004",
         12.544921875
        ],
        [
         "08/Mar/2004",
         6.484375
        ],
        [
         "08/Mar/2004",
         43.60546875
        ],
        [
         "08/Mar/2004",
         12.544921875
        ],
        [
         "08/Mar/2004",
         1.515625
        ],
        [
         "08/Mar/2004",
         2.8681640625
        ],
        [
         "08/Mar/2004",
         5.0595703125
        ],
        [
         "08/Mar/2004",
         5.8876953125
        ],
        [
         "08/Mar/2004",
         9.7890625
        ],
        [
         "08/Mar/2004",
         7.3349609375
        ],
        [
         "08/Mar/2004",
         12.544921875
        ],
        [
         "08/Mar/2004",
         12.544921875
        ],
        [
         "08/Mar/2004",
         3.48046875
        ],
        [
         "08/Mar/2004",
         12.544921875
        ],
        [
         "08/Mar/2004",
         6.447265625
        ],
        [
         "08/Mar/2004",
         43.59765625
        ],
        [
         "08/Mar/2004",
         12.544921875
        ],
        [
         "08/Mar/2004",
         12.544921875
        ],
        [
         "08/Mar/2004",
         0.45703125
        ],
        [
         "08/Mar/2004",
         6.0439453125
        ],
        [
         "08/Mar/2004",
         2.01171875
        ],
        [
         "08/Mar/2004",
         6.0146484375
        ],
        [
         "08/Mar/2004",
         12.544921875
        ],
        [
         "08/Mar/2004",
         13.6689453125
        ],
        [
         "08/Mar/2004",
         11.669921875
        ],
        [
         "08/Mar/2004",
         2.0439453125
        ],
        [
         "08/Mar/2004",
         2.0390625
        ],
        [
         "08/Mar/2004",
         10.1484375
        ],
        [
         "08/Mar/2004",
         2.8095703125
        ],
        [
         "08/Mar/2004",
         10.9990234375
        ],
        [
         "08/Mar/2004",
         26.4013671875
        ],
        [
         "08/Mar/2004",
         4.2177734375
        ],
        [
         "08/Mar/2004",
         12.544921875
        ],
        [
         "08/Mar/2004",
         2.3916015625
        ],
        [
         "08/Mar/2004",
         6.7109375
        ],
        [
         "08/Mar/2004",
         2.0859375
        ],
        [
         "08/Mar/2004",
         10.44921875
        ],
        [
         "08/Mar/2004",
         9.1982421875
        ],
        [
         "08/Mar/2004",
         3.548828125
        ],
        [
         "08/Mar/2004",
         99.759765625
        ],
        [
         "08/Mar/2004",
         12.544921875
        ],
        [
         "08/Mar/2004",
         5.658203125
        ],
        [
         "08/Mar/2004",
         9.19140625
        ],
        [
         "08/Mar/2004",
         111.54296875
        ],
        [
         "08/Mar/2004",
         6.162109375
        ],
        [
         "08/Mar/2004",
         14.2490234375
        ],
        [
         "08/Mar/2004",
         3.46484375
        ],
        [
         "08/Mar/2004",
         4.30859375
        ],
        [
         "08/Mar/2004",
         2.8017578125
        ],
        [
         "08/Mar/2004",
         28.244140625
        ],
        [
         "08/Mar/2004",
         3.357421875
        ],
        [
         "08/Mar/2004",
         4.017578125
        ],
        [
         "08/Mar/2004",
         2.8017578125
        ],
        [
         "08/Mar/2004",
         1.052734375
        ],
        [
         "08/Mar/2004",
         0.06640625
        ],
        [
         "08/Mar/2004",
         0.2041015625
        ],
        [
         "08/Mar/2004",
         18.3271484375
        ],
        [
         "08/Mar/2004",
         4.017578125
        ],
        [
         "08/Mar/2004",
         7.4697265625
        ],
        [
         "08/Mar/2004",
         0.2041015625
        ],
        [
         "08/Mar/2004",
         5.9091796875
        ],
        [
         "08/Mar/2004",
         1.974609375
        ],
        [
         "08/Mar/2004",
         0.9228515625
        ],
        [
         "08/Mar/2004",
         2.9775390625
        ],
        [
         "08/Mar/2004",
         7.4697265625
        ],
        [
         "08/Mar/2004",
         10.1748046875
        ],
        [
         "08/Mar/2004",
         2.8095703125
        ],
        [
         "08/Mar/2004",
         4.1328125
        ],
        [
         "08/Mar/2004",
         4.638671875
        ],
        [
         "08/Mar/2004",
         4.4755859375
        ],
        [
         "08/Mar/2004",
         0.2041015625
        ],
        [
         "08/Mar/2004",
         0
        ],
        [
         "08/Mar/2004",
         3.0947265625
        ],
        [
         "08/Mar/2004",
         1.052734375
        ],
        [
         "08/Mar/2004",
         2.8857421875
        ],
        [
         "08/Mar/2004",
         2.9775390625
        ],
        [
         "08/Mar/2004",
         2.109375
        ],
        [
         "08/Mar/2004",
         2.330078125
        ],
        [
         "08/Mar/2004",
         3.1943359375
        ],
        [
         "08/Mar/2004",
         1.6474609375
        ],
        [
         "08/Mar/2004",
         2.423828125
        ],
        [
         "08/Mar/2004",
         1.869140625
        ],
        [
         "08/Mar/2004",
         1.5
        ],
        [
         "08/Mar/2004",
         2.197265625
        ],
        [
         "08/Mar/2004",
         1.8388671875
        ],
        [
         "08/Mar/2004",
         1.4580078125
        ],
        [
         "08/Mar/2004",
         10.1484375
        ],
        [
         "08/Mar/2004",
         2.8095703125
        ],
        [
         "08/Mar/2004",
         1.052734375
        ],
        [
         "08/Mar/2004",
         5.111328125
        ],
        [
         "08/Mar/2004",
         3.927734375
        ],
        [
         "08/Mar/2004",
         5.5390625
        ],
        [
         "08/Mar/2004",
         3.966796875
        ],
        [
         "08/Mar/2004",
         3.966796875
        ],
        [
         "08/Mar/2004",
         3.0947265625
        ],
        [
         "08/Mar/2004",
         2.8857421875
        ],
        [
         "08/Mar/2004",
         3.162109375
        ],
        [
         "08/Mar/2004",
         2.9609375
        ],
        [
         "08/Mar/2004",
         2.109375
        ],
        [
         "08/Mar/2004",
         2.3134765625
        ],
        [
         "08/Mar/2004",
         1.6318359375
        ],
        [
         "08/Mar/2004",
         2.4267578125
        ],
        [
         "08/Mar/2004",
         1.4970703125
        ],
        [
         "08/Mar/2004",
         1.861328125
        ],
        [
         "08/Mar/2004",
         2.1982421875
        ],
        [
         "08/Mar/2004",
         1.8310546875
        ],
        [
         "08/Mar/2004",
         1.4482421875
        ],
        [
         "08/Mar/2004",
         7.1953125
        ],
        [
         "08/Mar/2004",
         2.8017578125
        ],
        [
         "08/Mar/2004",
         10.1484375
        ],
        [
         "08/Mar/2004",
         2.8095703125
        ],
        [
         "08/Mar/2004",
         4.4091796875
        ],
        [
         "08/Mar/2004",
         3.91015625
        ],
        [
         "08/Mar/2004",
         2.8017578125
        ],
        [
         "08/Mar/2004",
         3.0947265625
        ],
        [
         "09/Mar/2004",
         10.1748046875
        ],
        [
         "09/Mar/2004",
         2.8095703125
        ],
        [
         "09/Mar/2004",
         1.052734375
        ],
        [
         "09/Mar/2004",
         3.939453125
        ],
        [
         "09/Mar/2004",
         4.7861328125
        ],
        [
         "09/Mar/2004",
         5.5576171875
        ],
        [
         "09/Mar/2004",
         5.4130859375
        ],
        [
         "09/Mar/2004",
         5.1298828125
        ],
        [
         "09/Mar/2004",
         12.5498046875
        ],
        [
         "09/Mar/2004",
         0.126953125
        ],
        [
         "09/Mar/2004",
         4.1328125
        ],
        [
         "09/Mar/2004",
         4.427734375
        ],
        [
         "09/Mar/2004",
         2.8857421875
        ],
        [
         "09/Mar/2004",
         2.99609375
        ],
        [
         "09/Mar/2004",
         2.1357421875
        ],
        [
         "09/Mar/2004",
         3.2001953125
        ],
        [
         "09/Mar/2004",
         2.3232421875
        ],
        [
         "09/Mar/2004",
         1.6474609375
        ],
        [
         "09/Mar/2004",
         2.53125
        ],
        [
         "09/Mar/2004",
         1.9365234375
        ],
        [
         "09/Mar/2004",
         1.5087890625
        ],
        [
         "09/Mar/2004",
         2.169921875
        ],
        [
         "09/Mar/2004",
         1.822265625
        ],
        [
         "09/Mar/2004",
         1.458984375
        ],
        [
         "09/Mar/2004",
         1.052734375
        ],
        [
         "09/Mar/2004",
         0.06640625
        ],
        [
         "09/Mar/2004",
         3.79296875
        ],
        [
         "09/Mar/2004",
         3.79296875
        ],
        [
         "09/Mar/2004",
         10.1748046875
        ],
        [
         "09/Mar/2004",
         2.8095703125
        ],
        [
         "09/Mar/2004",
         3.9853515625
        ],
        [
         "09/Mar/2004",
         3.939453125
        ],
        [
         "09/Mar/2004",
         5.5576171875
        ],
        [
         "09/Mar/2004",
         5.4130859375
        ],
        [
         "09/Mar/2004",
         5.1298828125
        ],
        [
         "09/Mar/2004",
         7.2607421875
        ],
        [
         "09/Mar/2004",
         56.92578125
        ],
        [
         "09/Mar/2004",
         14.826171875
        ],
        [
         "09/Mar/2004",
         7.048828125
        ],
        [
         "09/Mar/2004",
         0.1201171875
        ],
        [
         "09/Mar/2004",
         3.4189453125
        ],
        [
         "09/Mar/2004",
         8.4296875
        ],
        [
         "09/Mar/2004",
         3.0947265625
        ],
        [
         "09/Mar/2004",
         2.24609375
        ],
        [
         "09/Mar/2004",
         3.0947265625
        ],
        [
         "09/Mar/2004",
         2.8857421875
        ],
        [
         "09/Mar/2004",
         2.9560546875
        ],
        [
         "09/Mar/2004",
         2.09765625
        ],
        [
         "09/Mar/2004",
         3.125
        ],
        [
         "09/Mar/2004",
         2.2861328125
        ],
        [
         "09/Mar/2004",
         1.646484375
        ],
        [
         "09/Mar/2004",
         2.474609375
        ],
        [
         "09/Mar/2004",
         1.90234375
        ],
        [
         "09/Mar/2004",
         1.5126953125
        ],
        [
         "09/Mar/2004",
         2.162109375
        ],
        [
         "09/Mar/2004",
         1.8291015625
        ],
        [
         "09/Mar/2004",
         1.46484375
        ],
        [
         "09/Mar/2004",
         2.9169921875
        ],
        [
         "09/Mar/2004",
         6.55078125
        ],
        [
         "09/Mar/2004",
         8.0390625
        ],
        [
         "09/Mar/2004",
         8.6494140625
        ],
        [
         "09/Mar/2004",
         7.0068359375
        ],
        [
         "09/Mar/2004",
         9.1708984375
        ],
        [
         "09/Mar/2004",
         6.759765625
        ],
        [
         "09/Mar/2004",
         6.462890625
        ],
        [
         "09/Mar/2004",
         5.4833984375
        ],
        [
         "09/Mar/2004",
         2.8017578125
        ],
        [
         "09/Mar/2004",
         10.1748046875
        ],
        [
         "09/Mar/2004",
         2.8095703125
        ],
        [
         "09/Mar/2004",
         3.939453125
        ],
        [
         "09/Mar/2004",
         5.5576171875
        ],
        [
         "09/Mar/2004",
         5.4130859375
        ],
        [
         "09/Mar/2004",
         3.0947265625
        ],
        [
         "09/Mar/2004",
         1.052734375
        ],
        [
         "09/Mar/2004",
         10.1748046875
        ],
        [
         "09/Mar/2004",
         2.8095703125
        ],
        [
         "09/Mar/2004",
         1.052734375
        ],
        [
         "09/Mar/2004",
         3.939453125
        ],
        [
         "09/Mar/2004",
         5.5576171875
        ],
        [
         "09/Mar/2004",
         5.4130859375
        ],
        [
         "09/Mar/2004",
         3.0947265625
        ],
        [
         "09/Mar/2004",
         10.1748046875
        ],
        [
         "09/Mar/2004",
         2.8095703125
        ],
        [
         "09/Mar/2004",
         3.939453125
        ],
        [
         "09/Mar/2004",
         5.5576171875
        ],
        [
         "09/Mar/2004",
         4.5556640625
        ],
        [
         "09/Mar/2004",
         3.921875
        ],
        [
         "09/Mar/2004",
         12.5498046875
        ],
        [
         "09/Mar/2004",
         0.126953125
        ],
        [
         "09/Mar/2004",
         4.1328125
        ],
        [
         "09/Mar/2004",
         4.4755859375
        ],
        [
         "09/Mar/2004",
         3.0947265625
        ],
        [
         "09/Mar/2004",
         4.638671875
        ],
        [
         "09/Mar/2004",
         4.017578125
        ],
        [
         "09/Mar/2004",
         3.87890625
        ],
        [
         "09/Mar/2004",
         1.052734375
        ],
        [
         "09/Mar/2004",
         3.435546875
        ],
        [
         "09/Mar/2004",
         10.6796875
        ],
        [
         "09/Mar/2004",
         20.6298828125
        ],
        [
         "09/Mar/2004",
         7.7529296875
        ],
        [
         "09/Mar/2004",
         10.1748046875
        ],
        [
         "09/Mar/2004",
         5.1298828125
        ],
        [
         "09/Mar/2004",
         0.06640625
        ],
        [
         "09/Mar/2004",
         0.2041015625
        ],
        [
         "09/Mar/2004",
         4.017578125
        ],
        [
         "09/Mar/2004",
         2.9169921875
        ],
        [
         "09/Mar/2004",
         8.623046875
        ],
        [
         "09/Mar/2004",
         7.0849609375
        ],
        [
         "09/Mar/2004",
         6.5458984375
        ],
        [
         "09/Mar/2004",
         6.9599609375
        ],
        [
         "09/Mar/2004",
         9.0244140625
        ],
        [
         "09/Mar/2004",
         6.6953125
        ],
        [
         "09/Mar/2004",
         6.462890625
        ],
        [
         "09/Mar/2004",
         5.4833984375
        ],
        [
         "09/Mar/2004",
         2.24609375
        ],
        [
         "09/Mar/2004",
         3.435546875
        ],
        [
         "09/Mar/2004",
         20.6298828125
        ],
        [
         "09/Mar/2004",
         7.7529296875
        ],
        [
         "09/Mar/2004",
         10.6796875
        ],
        [
         "09/Mar/2004",
         3.0947265625
        ],
        [
         "09/Mar/2004",
         2.8017578125
        ],
        [
         "09/Mar/2004",
         6.1240234375
        ],
        [
         "09/Mar/2004",
         1.974609375
        ],
        [
         "09/Mar/2004",
         0.9228515625
        ],
        [
         "09/Mar/2004",
         2.9775390625
        ],
        [
         "09/Mar/2004",
         5.5576171875
        ],
        [
         "09/Mar/2004",
         2.8095703125
        ],
        [
         "09/Mar/2004",
         0.06640625
        ],
        [
         "09/Mar/2004",
         0.2041015625
        ],
        [
         "09/Mar/2004",
         3.0947265625
        ],
        [
         "09/Mar/2004",
         10.1748046875
        ],
        [
         "09/Mar/2004",
         2.8095703125
        ],
        [
         "09/Mar/2004",
         3.9853515625
        ],
        [
         "09/Mar/2004",
         3.939453125
        ],
        [
         "09/Mar/2004",
         5.5576171875
        ],
        [
         "09/Mar/2004",
         5.1298828125
        ],
        [
         "09/Mar/2004",
         0.2939453125
        ],
        [
         "09/Mar/2004",
         6.7314453125
        ],
        [
         "09/Mar/2004",
         6.1240234375
        ],
        [
         "09/Mar/2004",
         3.0947265625
        ],
        [
         "09/Mar/2004",
         0.2939453125
        ],
        [
         "09/Mar/2004",
         6.7314453125
        ],
        [
         "09/Mar/2004",
         1.974609375
        ],
        [
         "09/Mar/2004",
         2.9775390625
        ],
        [
         "09/Mar/2004",
         0.9228515625
        ],
        [
         "09/Mar/2004",
         6.1240234375
        ],
        [
         "09/Mar/2004",
         2.24609375
        ],
        [
         "09/Mar/2004",
         2.8857421875
        ],
        [
         "09/Mar/2004",
         1.052734375
        ],
        [
         "09/Mar/2004",
         2.9697265625
        ],
        [
         "09/Mar/2004",
         1.6552734375
        ],
        [
         "09/Mar/2004",
         2.5166015625
        ],
        [
         "09/Mar/2004",
         3.1279296875
        ],
        [
         "09/Mar/2004",
         1.923828125
        ],
        [
         "09/Mar/2004",
         2.1298828125
        ],
        [
         "09/Mar/2004",
         1.513671875
        ],
        [
         "09/Mar/2004",
         2.259765625
        ],
        [
         "09/Mar/2004",
         1.806640625
        ],
        [
         "09/Mar/2004",
         2.1611328125
        ],
        [
         "09/Mar/2004",
         1.4736328125
        ],
        [
         "09/Mar/2004",
         6.1240234375
        ],
        [
         "09/Mar/2004",
         3.0947265625
        ],
        [
         "09/Mar/2004",
         1.052734375
        ],
        [
         "09/Mar/2004",
         3.904296875
        ],
        [
         "09/Mar/2004",
         2.033203125
        ],
        [
         "09/Mar/2004",
         2.130859375
        ],
        [
         "09/Mar/2004",
         2.130859375
        ],
        [
         "09/Mar/2004",
         19.1376953125
        ],
        [
         "09/Mar/2004",
         2.0537109375
        ],
        [
         "09/Mar/2004",
         6.7314453125
        ],
        [
         "09/Mar/2004",
         6.1240234375
        ],
        [
         "09/Mar/2004",
         0.2041015625
        ],
        [
         "09/Mar/2004",
         0
        ],
        [
         "09/Mar/2004",
         0.06640625
        ],
        [
         "09/Mar/2004",
         0.2041015625
        ],
        [
         "09/Mar/2004",
         2.8017578125
        ],
        [
         "09/Mar/2004",
         10.1748046875
        ],
        [
         "09/Mar/2004",
         1.052734375
        ],
        [
         "09/Mar/2004",
         2.8095703125
        ],
        [
         "09/Mar/2004",
         4.5556640625
        ],
        [
         "09/Mar/2004",
         8.4296875
        ],
        [
         "09/Mar/2004",
         6.7109375
        ],
        [
         "09/Mar/2004",
         1.974609375
        ],
        [
         "09/Mar/2004",
         0.9228515625
        ],
        [
         "09/Mar/2004",
         2.9775390625
        ],
        [
         "09/Mar/2004",
         2.03125
        ],
        [
         "09/Mar/2004",
         0.2939453125
        ],
        [
         "09/Mar/2004",
         6.7314453125
        ],
        [
         "09/Mar/2004",
         6.3076171875
        ],
        [
         "09/Mar/2004",
         6.1884765625
        ],
        [
         "09/Mar/2004",
         6.7314453125
        ],
        [
         "09/Mar/2004",
         2.8017578125
        ],
        [
         "09/Mar/2004",
         1.052734375
        ],
        [
         "09/Mar/2004",
         5.5576171875
        ],
        [
         "09/Mar/2004",
         2.8095703125
        ],
        [
         "09/Mar/2004",
         3.939453125
        ],
        [
         "09/Mar/2004",
         5.4130859375
        ],
        [
         "09/Mar/2004",
         18.44921875
        ],
        [
         "09/Mar/2004",
         10.1748046875
        ],
        [
         "09/Mar/2004",
         3.939453125
        ],
        [
         "09/Mar/2004",
         5.4130859375
        ],
        [
         "09/Mar/2004",
         3.0947265625
        ],
        [
         "09/Mar/2004",
         0.06640625
        ],
        [
         "09/Mar/2004",
         0.2041015625
        ],
        [
         "09/Mar/2004",
         0.06640625
        ],
        [
         "09/Mar/2004",
         0.2041015625
        ],
        [
         "09/Mar/2004",
         5.5576171875
        ],
        [
         "09/Mar/2004",
         2.8095703125
        ],
        [
         "09/Mar/2004",
         0.2041015625
        ],
        [
         "09/Mar/2004",
         3.0947265625
        ],
        [
         "10/Mar/2004",
         0.2041015625
        ],
        [
         "10/Mar/2004",
         2.8017578125
        ],
        [
         "10/Mar/2004",
         6.0625
        ],
        [
         "10/Mar/2004",
         1.974609375
        ],
        [
         "10/Mar/2004",
         0.9228515625
        ],
        [
         "10/Mar/2004",
         2.9775390625
        ],
        [
         "10/Mar/2004",
         2.24609375
        ],
        [
         "10/Mar/2004",
         0.06640625
        ],
        [
         "10/Mar/2004",
         2.24609375
        ],
        [
         "10/Mar/2004",
         7.1953125
        ],
        [
         "10/Mar/2004",
         10.1748046875
        ],
        [
         "10/Mar/2004",
         3.939453125
        ],
        [
         "10/Mar/2004",
         5.5576171875
        ],
        [
         "10/Mar/2004",
         5.4130859375
        ],
        [
         "10/Mar/2004",
         56.92578125
        ],
        [
         "10/Mar/2004",
         4.5556640625
        ],
        [
         "10/Mar/2004",
         3.921875
        ],
        [
         "10/Mar/2004",
         3.5439453125
        ],
        [
         "10/Mar/2004",
         4.427734375
        ],
        [
         "10/Mar/2004",
         5.1298828125
        ],
        [
         "10/Mar/2004",
         7.2607421875
        ],
        [
         "10/Mar/2004",
         3.87890625
        ],
        [
         "10/Mar/2004",
         5.275390625
        ],
        [
         "10/Mar/2004",
         5.8291015625
        ],
        [
         "10/Mar/2004",
         0.9228515625
        ],
        [
         "10/Mar/2004",
         1.974609375
        ],
        [
         "10/Mar/2004",
         2.9775390625
        ],
        [
         "10/Mar/2004",
         3.0947265625
        ],
        [
         "10/Mar/2004",
         2.8017578125
        ],
        [
         "10/Mar/2004",
         2.9169921875
        ],
        [
         "10/Mar/2004",
         7.6005859375
        ],
        [
         "10/Mar/2004",
         8.6376953125
        ],
        [
         "10/Mar/2004",
         6.126953125
        ],
        [
         "10/Mar/2004",
         6.9052734375
        ],
        [
         "10/Mar/2004",
         9.109375
        ],
        [
         "10/Mar/2004",
         6.8125
        ],
        [
         "10/Mar/2004",
         6.4638671875
        ],
        [
         "10/Mar/2004",
         5.3876953125
        ],
        [
         "10/Mar/2004",
         2.94921875
        ],
        [
         "10/Mar/2004",
         2.2333984375
        ],
        [
         "10/Mar/2004",
         2.27734375
        ],
        [
         "10/Mar/2004",
         1.6337890625
        ],
        [
         "10/Mar/2004",
         2.5224609375
        ],
        [
         "10/Mar/2004",
         1.9296875
        ],
        [
         "10/Mar/2004",
         3.28515625
        ],
        [
         "10/Mar/2004",
         2.16796875
        ],
        [
         "10/Mar/2004",
         1.5888671875
        ],
        [
         "10/Mar/2004",
         1.7939453125
        ]
       ],
       "datasetInfos": [],
       "dbfsResultPath": null,
       "isJsonSchema": true,
       "overflow": true,
       "plotOptions": {
        "customPlotOptions": {
         "plotlyBar": [
          {
           "key": "grouped",
           "value": true
          },
          {
           "key": "stacked",
           "value": false
          },
          {
           "key": "100_stacked",
           "value": false
          }
         ],
         "plotlyLine": [
          {
           "key": "yRange",
           "value": ""
          },
          {
           "key": "showPoints",
           "value": false
          },
          {
           "key": "logScale",
           "value": false
          }
         ]
        },
        "displayType": "plotlyBar",
        "pivotAggregation": "sum",
        "pivotColumns": [],
        "xColumns": [
         "_1"
        ],
        "yColumns": [
         "_2"
        ]
       },
       "removedWidgets": [],
       "schema": [
        {
         "metadata": "{}",
         "name": "_1",
         "type": "\"string\""
        },
        {
         "metadata": "{}",
         "name": "_2",
         "type": "\"double\""
        }
       ],
       "type": "table"
      }
     },
     "output_type": "display_data"
    }
   ],
   "source": [
    "display(trafficWithTime)"
   ]
  },
  {
   "cell_type": "code",
   "execution_count": 0,
   "metadata": {
    "application/vnd.databricks.v1+cell": {
     "inputWidgets": {},
     "nuid": "7a68be00-159f-41a1-9c0d-a59b6395cf32",
     "showTitle": false,
     "title": ""
    }
   },
   "outputs": [],
   "source": []
  }
 ],
 "metadata": {
  "application/vnd.databricks.v1+notebook": {
   "dashboards": [],
   "language": "python",
   "notebookName": "LogAnalysis",
   "notebookOrigID": 4098204479520561,
   "widgets": {}
  },
  "kernelspec": {
   "display_name": "Python 3 (ipykernel)",
   "language": "python",
   "name": "python3"
  },
  "language_info": {
   "codemirror_mode": {
    "name": "ipython",
    "version": 3
   },
   "file_extension": ".py",
   "mimetype": "text/x-python",
   "name": "python",
   "nbconvert_exporter": "python",
   "pygments_lexer": "ipython3",
   "version": "3.9.13"
  }
 },
 "nbformat": 4,
 "nbformat_minor": 1
}
